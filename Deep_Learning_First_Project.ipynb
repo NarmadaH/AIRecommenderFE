{
  "nbformat": 4,
  "nbformat_minor": 0,
  "metadata": {
    "colab": {
      "provenance": [],
      "include_colab_link": true
    },
    "kernelspec": {
      "name": "python3",
      "display_name": "Python 3"
    },
    "language_info": {
      "name": "python"
    }
  },
  "cells": [
    {
      "cell_type": "markdown",
      "metadata": {
        "id": "view-in-github",
        "colab_type": "text"
      },
      "source": [
        "<a href=\"https://colab.research.google.com/github/NarmadaH/AIRecommenderFE/blob/main/Deep_Learning_First_Project.ipynb\" target=\"_parent\"><img src=\"https://colab.research.google.com/assets/colab-badge.svg\" alt=\"Open In Colab\"/></a>"
      ]
    },
    {
      "cell_type": "markdown",
      "source": [
        "# Base Model Setup\n",
        "\n",
        "\n",
        "\n",
        "\n",
        "\n",
        "\n",
        "\n",
        "\n",
        "\n",
        "\n",
        "\n",
        "\n"
      ],
      "metadata": {
        "id": "azykSpcrfPKt"
      }
    },
    {
      "cell_type": "code",
      "source": [
        "from sklearn.metrics import confusion_matrix , classification_report\n",
        "from sklearn.datasets import load_digits\n",
        "from sklearn.model_selection import train_test_split\n",
        "from keras.models import Sequential\n",
        "from keras.layers import Dense\n",
        "import numpy as np\n",
        "from tensorflow import keras\n",
        "from keras.utils import to_categorical\n",
        "from keras.models import Sequential\n",
        "from keras.layers import Dense, Activation, BatchNormalization\n",
        "import matplotlib.pyplot as plt\n",
        "import seaborn as sns\n",
        "from keras.optimizers import Adam, Nadam, Adagrad, RMSprop, SGD\n",
        "from keras import regularizers\n",
        "from keras.layers import Dense, Dropout\n",
        "from keras.models import Sequential\n",
        "from keras.layers import Dense\n",
        "from keras.regularizers import l2"
      ],
      "metadata": {
        "id": "ezMdyOjdjEVm"
      },
      "execution_count": null,
      "outputs": []
    },
    {
      "cell_type": "code",
      "source": [
        "# Load the dataset\n",
        "digits = load_digits()\n",
        "\n",
        "# Split the data into training and test sets\n",
        "X_train, X_test, y_train, y_test = train_test_split(digits.data, digits.target, test_size=0.2)\n",
        "\n",
        "# Convert the target variables to one-hot encoded format\n",
        "y_train = to_categorical(y_train)\n",
        "y_test = to_categorical(y_test)"
      ],
      "metadata": {
        "id": "7FNPZh0Q95eU"
      },
      "execution_count": null,
      "outputs": []
    },
    {
      "cell_type": "code",
      "source": [
        "X_train.shape"
      ],
      "metadata": {
        "colab": {
          "base_uri": "https://localhost:8080/"
        },
        "id": "Q-SKAl-YvXVT",
        "outputId": "01a5345d-5ebc-4ace-fc74-9b5adb832280"
      },
      "execution_count": null,
      "outputs": [
        {
          "output_type": "execute_result",
          "data": {
            "text/plain": [
              "(1437, 64)"
            ]
          },
          "metadata": {},
          "execution_count": 4
        }
      ]
    },
    {
      "cell_type": "code",
      "source": [
        "def use_model(model, compile = True, batch_size = 100, epochs = 10):\n",
        "  # Compile the model categorical_crossentropy\n",
        "  if(compile == True):\n",
        "    model.compile(loss='categorical_crossentropy', optimizer='adam', metrics=['accuracy'])\n",
        "\n",
        "  # Train the model\n",
        "  history = model.fit(X_train, y_train, epochs=epochs, batch_size=batch_size, validation_data=(X_test, y_test), verbose=0)\n",
        "\n",
        "  train_loss = history.history['loss']\n",
        "  train_acc = history.history['accuracy']\n",
        "  val_loss = history.history['val_loss']\n",
        "  val_acc = history.history['val_accuracy']\n",
        "  print('Training loss:', train_loss[epochs-1])\n",
        "  print('Training accuracy:', train_acc[epochs-1])\n",
        "  print('Validation loss:', val_loss[epochs-1])\n",
        "  print('Validation accuracy:', val_acc[epochs-1])\n",
        "\n",
        "  ep = range(1, epochs+1)\n",
        "\n",
        "  # Plot the training and validation accuracy and loss values\n",
        "  plt.plot(ep, history.history['accuracy'], color='blue', label='Training Accuracy')\n",
        "  plt.plot(ep, history.history['val_accuracy'], color='green', label='Validation Accuracy')\n",
        "  plt.plot(ep, history.history['loss'], color='red', label='Training Loss')\n",
        "  plt.plot(ep, history.history['val_loss'], color='orange', label='Validation Loss')\n",
        "  plt.title('Model Accuracy and Loss')\n",
        "  plt.xlabel('Epoch')\n",
        "  plt.ylabel('Accuracy / Loss')\n",
        "  plt.legend(loc='upper left')\n",
        "  plt.show()\n",
        "\n",
        "  # plt.plot(ep, train_loss, color='blue', label='Training Loss')\n",
        "  # plt.plot(ep, val_loss, color='red', label='Validation Loss')\n",
        "  # plt.title('Training and Validation Loss')\n",
        "  # plt.xlabel('Epochs')\n",
        "  # plt.ylabel('Loss')\n",
        "  # plt.legend(loc='upper right')\n",
        "  # plt.show()\n",
        "\n",
        "  # plt.plot(ep, train_acc, color='blue', label='Training accuracy')\n",
        "  # plt.plot(ep, val_acc, color='red', label='Validation accuracy')\n",
        "  # plt.title('Training and validation accuracy')\n",
        "  # plt.xlabel('Epochs')\n",
        "  # plt.ylabel('Accuracy')\n",
        "  # plt.legend(loc='lower right')\n",
        "  # plt.show()\n",
        "\n",
        "  # Evaluate the model on the test set\n",
        "  scores = model.evaluate(X_test, y_test, verbose=0)\n",
        "\n",
        "  # y_pred = model.predict(X_test)\n",
        "  # y_pred = np.round(y_pred)\n",
        "  # print(classification_report(y_test, y_pred))\n",
        "\n",
        "  # Evaluate the model\n",
        "  y_pred = model.predict(X_test)\n",
        "  y_pred_classes = np.argmax(y_pred, axis=1)\n",
        "  y_test_classes = np.argmax(y_test, axis=1)\n",
        "\n",
        "  #len = 20\n",
        "  # for i in range(0, len):\n",
        "  #   print(\"y_pred\", y_pred[i])\n",
        "  #   print(\"y_test_classes\", y_test_classes[i])\n",
        "\n",
        "  # Compute confusion matrix\n",
        "  confusion = confusion_matrix(y_test_classes, y_pred_classes)\n",
        "\n",
        "  # Create heatmap of confusion matrix\n",
        "  sns.heatmap(confusion, annot=True, cmap='Blues', fmt='g')\n",
        "  plt.xlabel('Predicted label')\n",
        "  plt.ylabel('True label')\n",
        "  plt.title('Confusion Matrix')\n",
        "  plt.show()\n",
        "\n",
        "  # Compute accuracy, specificity, sensitivity, PPVs, and NPVs\n",
        "  total = np.sum(confusion)\n",
        "  accuracy = np.trace(confusion) / float(total)\n",
        "  specificity = np.diag(confusion)[0] / np.sum(confusion[0])\n",
        "  sensitivity = np.diag(confusion)[1] / np.sum(confusion[1])\n",
        "  ppv = np.diag(confusion)[1] / np.sum(confusion[:, 1])\n",
        "  npv = np.diag(confusion)[0] / np.sum(confusion[:, 0])\n",
        "\n",
        "  # Print the results\n",
        "  print(\"Accuracy:\", accuracy)\n",
        "  print(\"Loss: {:.2f}\".format(scores[0]))\n",
        "  print(\"Specificity:\", specificity)\n",
        "  print(\"Sensitivity:\", sensitivity)"
      ],
      "metadata": {
        "id": "32p0wTBqLqML"
      },
      "execution_count": null,
      "outputs": []
    },
    {
      "cell_type": "code",
      "execution_count": null,
      "metadata": {
        "colab": {
          "base_uri": "https://localhost:8080/",
          "height": 729
        },
        "id": "fZ52H1oMc_4K",
        "outputId": "2e08353d-3757-4da7-c1d7-e64e7b87a48e"
      },
      "outputs": [
        {
          "output_type": "stream",
          "name": "stdout",
          "text": [
            "Training loss: 0.19376614689826965\n",
            "Training accuracy: 0.9478079080581665\n",
            "Validation loss: 0.1495143324136734\n",
            "Validation accuracy: 0.9527778029441833\n"
          ]
        },
        {
          "output_type": "display_data",
          "data": {
            "text/plain": [
              "<Figure size 432x288 with 1 Axes>"
            ],
            "image/png": "[encoded data removed]"
          },
          "metadata": {
            "needs_background": "light"
          }
        },
        {
          "output_type": "stream",
          "name": "stdout",
          "text": [
            "12/12 [==============================] - 0s 3ms/step\n"
          ]
        },
        {
          "output_type": "display_data",
          "data": {
            "text/plain": [
              "<Figure size 432x288 with 2 Axes>"
            ],
            "image/png": "[encoded data removed]"
          },
          "metadata": {
            "needs_background": "light"
          }
        },
        {
          "output_type": "stream",
          "name": "stdout",
          "text": [
            "Accuracy: 0.9527777777777777\n",
            "Loss: 0.15\n",
            "Specificity: 0.9791666666666666\n",
            "Sensitivity: 0.9230769230769231\n"
          ]
        }
      ],
      "source": [
        "# Define the model\n",
        "model = Sequential()\n",
        "model.add(Dense(64, activation='relu', input_dim=64))\n",
        "model.add(Dense(30, activation='relu'))\n",
        "model.add(Dense(10, activation='sigmoid'))\n",
        "\n",
        "use_model(model)"
      ]
    },
    {
      "cell_type": "markdown",
      "source": [
        "# **Dropout Regularization - Nourin**"
      ],
      "metadata": {
        "id": "hQPbwz2siC8c"
      }
    },
    {
      "cell_type": "code",
      "source": [
        "model_dropout = keras.Sequential([\n",
        "    Dense(64, activation='relu', input_dim=64),\n",
        "    keras.layers.Dropout(0.05),\n",
        "    Dense(30, activation='relu'),\n",
        "    #keras.layers.Dropout(0.10),5%\n",
        "    Dense(10, activation='sigmoid'),\n",
        "])\n",
        "\n",
        "use_model(model_dropout, True, 10)"
      ],
      "metadata": {
        "colab": {
          "base_uri": "https://localhost:8080/",
          "height": 729
        },
        "id": "V5BuZ-J4kG_f",
        "outputId": "e4639401-71e9-481f-e498-aa74bac72e29"
      },
      "execution_count": null,
      "outputs": [
        {
          "output_type": "stream",
          "name": "stdout",
          "text": [
            "Training loss: 0.06945906579494476\n",
            "Training accuracy: 0.9784272909164429\n",
            "Validation loss: 0.07516186684370041\n",
            "Validation accuracy: 0.9750000238418579\n"
          ]
        },
        {
          "output_type": "display_data",
          "data": {
            "text/plain": [
              "<Figure size 432x288 with 1 Axes>"
            ],
            "image/png": "[encoded data removed]"
          },
          "metadata": {
            "needs_background": "light"
          }
        },
        {
          "output_type": "stream",
          "name": "stdout",
          "text": [
            "12/12 [==============================] - 0s 2ms/step\n"
          ]
        },
        {
          "output_type": "display_data",
          "data": {
            "text/plain": [
              "<Figure size 432x288 with 2 Axes>"
            ],
            "image/png": "[encoded data removed]"
          },
          "metadata": {
            "needs_background": "light"
          }
        },
        {
          "output_type": "stream",
          "name": "stdout",
          "text": [
            "Accuracy: 0.975\n",
            "Loss: 0.08\n",
            "Specificity: 1.0\n",
            "Sensitivity: 0.9487179487179487\n"
          ]
        }
      ]
    },
    {
      "cell_type": "markdown",
      "source": [
        "# **Gradient Decent - Nourin**"
      ],
      "metadata": {
        "id": "UNS5rzIQhzpe"
      }
    },
    {
      "cell_type": "markdown",
      "source": [
        "# **Stochastic Gradient Decent**\n",
        "\n",
        "---\n",
        "\n"
      ],
      "metadata": {
        "id": "dCsDx7BCh1UG"
      }
    },
    {
      "cell_type": "code",
      "source": [
        "modelSdecend = keras.Sequential([\n",
        "    Dense(64, activation='relu', input_dim=64),\n",
        "    Dense(30, activation='relu'),\n",
        "    Dense(10, activation='sigmoid'),\n",
        "])\n",
        "\n",
        "modelSdecend.compile(SGD(learning_rate=.001), loss='categorical_crossentropy', metrics=['accuracy'])\n",
        "\n",
        "use_model(modelSdecend, False, 1, 20)"
      ],
      "metadata": {
        "colab": {
          "base_uri": "https://localhost:8080/",
          "height": 729
        },
        "id": "H2mvpT_GhGm5",
        "outputId": "e3540dd9-ad90-4019-9bff-42306455e9f8"
      },
      "execution_count": null,
      "outputs": [
        {
          "output_type": "stream",
          "name": "stdout",
          "text": [
            "Training loss: 0.01051590871065855\n",
            "Training accuracy: 0.9993041157722473\n",
            "Validation loss: 0.05040446296334267\n",
            "Validation accuracy: 0.9833333492279053\n"
          ]
        },
        {
          "output_type": "display_data",
          "data": {
            "text/plain": [
              "<Figure size 432x288 with 1 Axes>"
            ],
            "image/png": "[encoded data removed]"
          },
          "metadata": {
            "needs_background": "light"
          }
        },
        {
          "output_type": "stream",
          "name": "stdout",
          "text": [
            "12/12 [==============================] - 0s 2ms/step\n"
          ]
        },
        {
          "output_type": "display_data",
          "data": {
            "text/plain": [
              "<Figure size 432x288 with 2 Axes>"
            ],
            "image/png": "[encoded data removed]"
          },
          "metadata": {
            "needs_background": "light"
          }
        },
        {
          "output_type": "stream",
          "name": "stdout",
          "text": [
            "Accuracy: 0.9805555555555555\n",
            "Loss: 0.05\n",
            "Specificity: 1.0\n",
            "Sensitivity: 0.9743589743589743\n"
          ]
        }
      ]
    },
    {
      "cell_type": "markdown",
      "source": [
        "# **Batch Gradient Decent**"
      ],
      "metadata": {
        "id": "cIyTGJIBh-w0"
      }
    },
    {
      "cell_type": "code",
      "source": [
        "\n",
        "modelBSdecend = keras.Sequential([\n",
        "    Dense(64, activation='relu', input_dim=64),\n",
        "    Dense(30, activation='relu'),\n",
        "    Dense(10, activation='sigmoid'),\n",
        "])\n",
        "modelBSdecend.compile(SGD(learning_rate=.01), loss='categorical_crossentropy', metrics=['accuracy'])\n",
        "\n",
        "use_model(modelBSdecend, False, 1437, 1000)"
      ],
      "metadata": {
        "colab": {
          "base_uri": "https://localhost:8080/",
          "height": 729
        },
        "id": "cFjBF2eDOatZ",
        "outputId": "bbb4a97b-3da6-4e01-a8a3-15583fa429d3"
      },
      "execution_count": null,
      "outputs": [
        {
          "output_type": "stream",
          "name": "stdout",
          "text": [
            "Training loss: 0.030878262594342232\n",
            "Training accuracy: 0.9972164034843445\n",
            "Validation loss: 0.06410858780145645\n",
            "Validation accuracy: 0.980555534362793\n"
          ]
        },
        {
          "output_type": "display_data",
          "data": {
            "text/plain": [
              "<Figure size 432x288 with 1 Axes>"
            ],
            "image/png": "[encoded data removed]"
          },
          "metadata": {
            "needs_background": "light"
          }
        },
        {
          "output_type": "stream",
          "name": "stdout",
          "text": [
            "12/12 [==============================] - 0s 3ms/step\n"
          ]
        },
        {
          "output_type": "display_data",
          "data": {
            "text/plain": [
              "<Figure size 432x288 with 2 Axes>"
            ],
            "image/png": "[encoded data removed]"
          },
          "metadata": {
            "needs_background": "light"
          }
        },
        {
          "output_type": "stream",
          "name": "stdout",
          "text": [
            "Accuracy: 0.9805555555555555\n",
            "Loss: 0.06\n",
            "Specificity: 1.0\n",
            "Sensitivity: 1.0\n"
          ]
        }
      ]
    },
    {
      "cell_type": "markdown",
      "source": [
        "# **Mini Batch Gradient Decent**"
      ],
      "metadata": {
        "id": "rof9vTzLiCZs"
      }
    },
    {
      "cell_type": "code",
      "source": [
        "modelSdecend = keras.Sequential([\n",
        "    Dense(64, activation='relu', input_dim=64),\n",
        "    Dense(30, activation='relu'),\n",
        "    Dense(10, activation='sigmoid'),\n",
        "])\n",
        "\n",
        "modelSdecend.compile(SGD(learning_rate=.001), loss='categorical_crossentropy', metrics=['accuracy'])\n",
        "\n",
        "\n",
        "use_model(modelSdecend, False, 5, 20)"
      ],
      "metadata": {
        "colab": {
          "base_uri": "https://localhost:8080/",
          "height": 729
        },
        "id": "gHkrYZfkXFJ5",
        "outputId": "027eacb0-04b0-4e1c-c932-2b4d430ebf72"
      },
      "execution_count": null,
      "outputs": [
        {
          "output_type": "stream",
          "name": "stdout",
          "text": [
            "Training loss: 0.061300911009311676\n",
            "Training accuracy: 0.9853861927986145\n",
            "Validation loss: 0.07500291615724564\n",
            "Validation accuracy: 0.980555534362793\n"
          ]
        },
        {
          "output_type": "display_data",
          "data": {
            "text/plain": [
              "<Figure size 432x288 with 1 Axes>"
            ],
            "image/png": "[encoded data removed]"
          },
          "metadata": {
            "needs_background": "light"
          }
        },
        {
          "output_type": "stream",
          "name": "stdout",
          "text": [
            "12/12 [==============================] - 0s 4ms/step\n"
          ]
        },
        {
          "output_type": "display_data",
          "data": {
            "text/plain": [
              "<Figure size 432x288 with 2 Axes>"
            ],
            "image/png": "[encoded data removed]"
          },
          "metadata": {
            "needs_background": "light"
          }
        },
        {
          "output_type": "stream",
          "name": "stdout",
          "text": [
            "Accuracy: 0.9805555555555555\n",
            "Loss: 0.08\n",
            "Specificity: 0.9791666666666666\n",
            "Sensitivity: 0.9743589743589743\n"
          ]
        }
      ]
    },
    {
      "cell_type": "code",
      "source": [],
      "metadata": {
        "id": "faCE9UG4yHQB"
      },
      "execution_count": null,
      "outputs": []
    },
    {
      "cell_type": "markdown",
      "source": [
        "# **Batch Normalization - Achini**"
      ],
      "metadata": {
        "id": "iZmLLqS5iPUT"
      }
    },
    {
      "cell_type": "code",
      "source": [
        "# Define the neural network architecture\n",
        "modelBNorm = Sequential()\n",
        "modelBNorm.add(Dense(64, activation='relu', input_dim=64))\n",
        "BatchNormalization(axis=1, momentum=0.06),\n",
        "modelBNorm.add(Dense(30, activation='relu'))\n",
        "BatchNormalization(axis=1, momentum=0.06),\n",
        "modelBNorm.add(Dense(10, activation='sigmoid'))\n",
        "\n",
        "# Compile the model\n",
        "modelBNorm.compile(optimizer='adam', loss='categorical_crossentropy', metrics=['accuracy'])\n",
        "\n",
        "\n",
        "# Train the model\n",
        "modelBNorm.fit(X_train, y_train, epochs=10, batch_size=100, validation_data=(X_test, y_test))\n",
        "\n",
        "# Evaluate the model on test data\n",
        "scores = modelBNorm.evaluate(X_test, y_test, verbose=0)\n",
        "\n",
        "\n",
        "# Evaluate the model\n",
        "y_pred = modelBNorm.predict(X_test)\n",
        "y_pred_classes = np.argmax(y_pred, axis=1)\n",
        "y_test_classes = np.argmax(y_test, axis=1)\n",
        "\n",
        "# Compute confusion matrix\n",
        "confusion = confusion_matrix(y_test_classes, y_pred_classes)\n",
        "\n",
        "# Compute accuracy, specificity, sensitivity, PPVs, and NPVs\n",
        "total = np.sum(confusion)\n",
        "accuracy = np.trace(confusion) / float(total)\n",
        "specificity = np.diag(confusion)[0] / np.sum(confusion[0])\n",
        "sensitivity = np.diag(confusion)[1] / np.sum(confusion[1])\n",
        "ppv = np.diag(confusion)[1] / np.sum(confusion[:, 1])\n",
        "npv = np.diag(confusion)[0] / np.sum(confusion[:, 0])\n",
        "\n",
        "# Print the results\n",
        "print(\"Accuracy:\", accuracy)\n",
        "print(\"Loss: {:.2f}\".format(scores[0]))\n",
        "print(\"Specificity:\", specificity)\n",
        "print(\"Sensitivity:\", sensitivity)\n",
        "print(\"PPV:\", ppv)\n",
        "print(\"NPV:\", npv)\n",
        "\n",
        "# Define function to create and compile model\n",
        "def create_model(momentum):\n",
        "    model = Sequential()\n",
        "    model.add(Dense(64, activation='relu', input_dim=64))\n",
        "    model.add(BatchNormalization(axis=1, momentum=momentum))\n",
        "    model.add(Dense(30, activation='relu'))\n",
        "    model.add(BatchNormalization(axis=1, momentum=momentum))\n",
        "    model.add(Dense(10, activation='sigmoid'))\n",
        "\n",
        "    model.compile(optimizer='adam', loss='categorical_crossentropy', metrics=['accuracy'])\n",
        "    return model\n",
        "\n",
        "\n",
        "# Define list of momentum values to try\n",
        "momentum_values = [0.1, 0.2, 0.3, 0.4, 0.5, 0.6, 0.7, 0.8, 0.9]\n",
        "\n",
        "# Train and evaluate models for each momentum value\n",
        "for momentum in momentum_values:\n",
        "    model = create_model(momentum)\n",
        "    history = model.fit(X_train, y_train, validation_data=(X_test, y_test), epochs=10, batch_size=100)\n",
        "    plt.plot(history.history['val_accuracy'], label=f'momentum={momentum}')\n",
        "\n",
        "plt.title('Batch Normalization Momentum vs. Accuracy')\n",
        "plt.xlabel('Epoch')\n",
        "plt.ylabel('Accuracy')\n",
        "plt.legend()\n",
        "plt.show()\n",
        "\n",
        "# Layers all\n",
        "\n",
        "# Define the regularization strengths to try\n",
        "momentum_values = [0.1, 0.2, 0.3, 0.4, 0.5, 0.6, 0.7, 0.8, 0.9]\n",
        "\n",
        "# Train a model for each regularization strength and record the validation accuracy\n",
        "train_accuracies = []\n",
        "test_accuracies = []\n",
        "\n",
        "for momentum in momentum_values:\n",
        "    # Define the model\n",
        "    modelRegGraph = Sequential()\n",
        "    modelRegGraph.add(Dense(64, activation='relu', input_dim=64))\n",
        "    modelRegGraph.add(BatchNormalization(axis=1, momentum=momentum))\n",
        "    modelRegGraph.add(Dense(30, activation='relu'))\n",
        "    modelRegGraph.add(BatchNormalization(axis=1, momentum=momentum))\n",
        "    modelRegGraph.add(Dense(10, activation='sigmoid'))\n",
        "\n",
        "    # Compile the model\n",
        "    modelRegGraph.compile(loss='categorical_crossentropy', optimizer='adam', metrics=['accuracy'])\n",
        "\n",
        "    # Train the model\n",
        "    history = modelRegGraph.fit(X_train, y_train, epochs=10, batch_size=100, validation_data=(X_test, y_test))\n",
        "\n",
        "    # Record the validation accuracy\n",
        "    train_acc = history.history['accuracy'][-1]\n",
        "    test_acc = history.history['val_accuracy'][-1]\n",
        "    train_accuracies.append(train_acc)\n",
        "    test_accuracies.append(test_acc)\n",
        "\n",
        "\n",
        "\n",
        "\n",
        "\n",
        "# Plot the results\n",
        "plt.plot(momentum_values, train_accuracies, '-o', label='Training Data')\n",
        "plt.plot(momentum_values, test_accuracies, '-o', label='Test Data')\n",
        "plt.legend()\n",
        "plt.xlabel('Batch Normalization Momentum')\n",
        "plt.ylabel('Accuracy')\n",
        "plt.title('Batch Normalization Momentum vs. Accuracy')\n",
        "plt.show()\n",
        "\n",
        "# Layers all\n",
        "\n",
        "# Define the regularization strengths to try\n",
        "momentum_values = [0.1, 0.2, 0.3, 0.4, 0.5, 0.6, 0.7, 0.8, 0.9]\n",
        "\n",
        "# Train a model for each regularization strength and record the validation accuracy\n",
        "train_accuracies = []\n",
        "test_accuracies = []\n",
        "\n",
        "for momentum in momentum_values:\n",
        "    # Define the model\n",
        "    modelRegGraph = Sequential()\n",
        "    modelRegGraph.add(Dense(64, activation='relu', input_dim=64))\n",
        "    modelRegGraph.add(BatchNormalization(axis=1, momentum=momentum))\n",
        "    modelRegGraph.add(Dense(30, activation='relu'))\n",
        "    modelRegGraph.add(BatchNormalization(axis=1, momentum=momentum))\n",
        "    modelRegGraph.add(Dense(10, activation='sigmoid'))\n",
        "\n",
        "    # Compile the model\n",
        "    modelRegGraph.compile(loss='categorical_crossentropy', optimizer='adam', metrics=['accuracy'])\n",
        "\n",
        "    # Train the model\n",
        "    history = modelRegGraph.fit(X_train, y_train, epochs=10, batch_size=100, validation_data=(X_test, y_test))\n",
        "\n",
        "    # Record the validation accuracy\n",
        "    train_acc = history.history['loss'][-1]\n",
        "    test_acc = history.history['val_loss'][-1]\n",
        "    train_accuracies.append(train_acc)\n",
        "    test_accuracies.append(test_acc)\n",
        "\n",
        "\n",
        "\n",
        "\n",
        "\n",
        "# Plot the results\n",
        "plt.plot(momentum_values, train_accuracies, '-o', label='Training Data')\n",
        "plt.plot(momentum_values, test_accuracies, '-o', label='Test Data')\n",
        "plt.legend()\n",
        "plt.xlabel('Batch Normalization Momentum')\n",
        "plt.ylabel('Loss')\n",
        "plt.title('Batch Normalization Momentum vs. Loss')\n",
        "plt.show()\n",
        "\n"
      ],
      "metadata": {
        "colab": {
          "base_uri": "https://localhost:8080/",
          "height": 1000
        },
        "id": "IWLZyfoxwQmq",
        "outputId": "58f9e3f1-2d81-4aba-ed14-d7e8cf182051"
      },
      "execution_count": null,
      "outputs": [
        {
          "output_type": "stream",
          "name": "stdout",
          "text": [
            "Epoch 1/10\n",
            "15/15 [==============================] - 1s 21ms/step - loss: 5.8214 - accuracy: 0.2081 - val_loss: 2.8590 - val_accuracy: 0.3083\n",
            "Epoch 2/10\n",
            "15/15 [==============================] - 0s 6ms/step - loss: 2.3061 - accuracy: 0.3556 - val_loss: 1.6333 - val_accuracy: 0.4639\n",
            "Epoch 3/10\n",
            "15/15 [==============================] - 0s 9ms/step - loss: 1.4275 - accuracy: 0.5080 - val_loss: 1.0134 - val_accuracy: 0.6694\n",
            "Epoch 4/10\n",
            "15/15 [==============================] - 0s 10ms/step - loss: 0.9263 - accuracy: 0.6889 - val_loss: 0.6812 - val_accuracy: 0.7889\n",
            "Epoch 5/10\n",
            "15/15 [==============================] - 0s 9ms/step - loss: 0.6444 - accuracy: 0.7996 - val_loss: 0.5106 - val_accuracy: 0.8417\n",
            "Epoch 6/10\n",
            "15/15 [==============================] - 0s 9ms/step - loss: 0.4813 - accuracy: 0.8441 - val_loss: 0.4065 - val_accuracy: 0.8694\n",
            "Epoch 7/10\n",
            "15/15 [==============================] - 0s 8ms/step - loss: 0.3743 - accuracy: 0.8824 - val_loss: 0.3325 - val_accuracy: 0.8944\n",
            "Epoch 8/10\n",
            "15/15 [==============================] - 0s 10ms/step - loss: 0.3072 - accuracy: 0.9040 - val_loss: 0.2765 - val_accuracy: 0.9139\n",
            "Epoch 9/10\n",
            "15/15 [==============================] - 0s 9ms/step - loss: 0.2576 - accuracy: 0.9255 - val_loss: 0.2367 - val_accuracy: 0.9250\n",
            "Epoch 10/10\n",
            "15/15 [==============================] - 0s 10ms/step - loss: 0.2244 - accuracy: 0.9311 - val_loss: 0.2025 - val_accuracy: 0.9333\n",
            "12/12 [==============================] - 0s 2ms/step\n",
            "Accuracy: 0.9333333333333333\n",
            "Loss: 0.20\n",
            "Specificity: 0.9791666666666666\n",
            "Sensitivity: 0.8974358974358975\n",
            "PPV: 0.9210526315789473\n",
            "NPV: 1.0\n",
            "Epoch 1/10\n",
            "15/15 [==============================] - 3s 89ms/step - loss: 2.0294 - accuracy: 0.3319 - val_loss: 1.3673 - val_accuracy: 0.5889\n",
            "Epoch 2/10\n",
            "15/15 [==============================] - 0s 9ms/step - loss: 1.1242 - accuracy: 0.6875 - val_loss: 0.9524 - val_accuracy: 0.7861\n",
            "Epoch 3/10\n",
            "15/15 [==============================] - 0s 9ms/step - loss: 0.7614 - accuracy: 0.8274 - val_loss: 0.7590 - val_accuracy: 0.8222\n",
            "Epoch 4/10\n",
            "15/15 [==============================] - 0s 8ms/step - loss: 0.5726 - accuracy: 0.8796 - val_loss: 0.4461 - val_accuracy: 0.8972\n",
            "Epoch 5/10\n",
            "15/15 [==============================] - 0s 8ms/step - loss: 0.4601 - accuracy: 0.9005 - val_loss: 0.3974 - val_accuracy: 0.9222\n",
            "Epoch 6/10\n",
            "15/15 [==============================] - 0s 8ms/step - loss: 0.3804 - accuracy: 0.9248 - val_loss: 0.3732 - val_accuracy: 0.9389\n",
            "Epoch 7/10\n",
            "15/15 [==============================] - 0s 8ms/step - loss: 0.3167 - accuracy: 0.9464 - val_loss: 0.3043 - val_accuracy: 0.9306\n",
            "Epoch 8/10\n",
            "15/15 [==============================] - 0s 9ms/step - loss: 0.2755 - accuracy: 0.9562 - val_loss: 0.3374 - val_accuracy: 0.9306\n",
            "Epoch 9/10\n",
            "15/15 [==============================] - 0s 9ms/step - loss: 0.2368 - accuracy: 0.9666 - val_loss: 0.2763 - val_accuracy: 0.9361\n",
            "Epoch 10/10\n",
            "15/15 [==============================] - 0s 7ms/step - loss: 0.2074 - accuracy: 0.9701 - val_loss: 0.2074 - val_accuracy: 0.9694\n",
            "Epoch 1/10\n",
            "15/15 [==============================] - 3s 30ms/step - loss: 2.2811 - accuracy: 0.2213 - val_loss: 1.5983 - val_accuracy: 0.4917\n",
            "Epoch 2/10\n",
            "15/15 [==============================] - 0s 9ms/step - loss: 1.2673 - accuracy: 0.6256 - val_loss: 0.9474 - val_accuracy: 0.7667\n",
            "Epoch 3/10\n",
            "15/15 [==============================] - 0s 7ms/step - loss: 0.8541 - accuracy: 0.8079 - val_loss: 0.6346 - val_accuracy: 0.8583\n",
            "Epoch 4/10\n",
            "15/15 [==============================] - 0s 7ms/step - loss: 0.6280 - accuracy: 0.8727 - val_loss: 0.5165 - val_accuracy: 0.8944\n",
            "Epoch 5/10\n",
            "15/15 [==============================] - 0s 8ms/step - loss: 0.4944 - accuracy: 0.9193 - val_loss: 0.4153 - val_accuracy: 0.9167\n",
            "Epoch 6/10\n",
            "15/15 [==============================] - 0s 8ms/step - loss: 0.4026 - accuracy: 0.9290 - val_loss: 0.3404 - val_accuracy: 0.9278\n",
            "Epoch 7/10\n",
            "15/15 [==============================] - 0s 7ms/step - loss: 0.3375 - accuracy: 0.9388 - val_loss: 0.2891 - val_accuracy: 0.9556\n",
            "Epoch 8/10\n",
            "15/15 [==============================] - 0s 8ms/step - loss: 0.2979 - accuracy: 0.9450 - val_loss: 0.2801 - val_accuracy: 0.9389\n",
            "Epoch 9/10\n",
            "15/15 [==============================] - 0s 7ms/step - loss: 0.2605 - accuracy: 0.9520 - val_loss: 0.2331 - val_accuracy: 0.9444\n",
            "Epoch 10/10\n",
            "15/15 [==============================] - 0s 8ms/step - loss: 0.2285 - accuracy: 0.9603 - val_loss: 0.2207 - val_accuracy: 0.9528\n",
            "Epoch 1/10\n",
            "15/15 [==============================] - 3s 41ms/step - loss: 2.4063 - accuracy: 0.2095 - val_loss: 1.7273 - val_accuracy: 0.4194\n",
            "Epoch 2/10\n",
            "15/15 [==============================] - 0s 11ms/step - loss: 1.4414 - accuracy: 0.5769 - val_loss: 1.2329 - val_accuracy: 0.6750\n",
            "Epoch 3/10\n",
            "15/15 [==============================] - 0s 10ms/step - loss: 0.9909 - accuracy: 0.7411 - val_loss: 0.8366 - val_accuracy: 0.7889\n",
            "Epoch 4/10\n",
            "15/15 [==============================] - 0s 11ms/step - loss: 0.7346 - accuracy: 0.8337 - val_loss: 0.6584 - val_accuracy: 0.8361\n",
            "Epoch 5/10\n",
            "15/15 [==============================] - 0s 11ms/step - loss: 0.5851 - accuracy: 0.8796 - val_loss: 0.5362 - val_accuracy: 0.8944\n",
            "Epoch 6/10\n",
            "15/15 [==============================] - 0s 13ms/step - loss: 0.4652 - accuracy: 0.9144 - val_loss: 0.4430 - val_accuracy: 0.9250\n",
            "Epoch 7/10\n",
            "15/15 [==============================] - 0s 8ms/step - loss: 0.4001 - accuracy: 0.9248 - val_loss: 0.3841 - val_accuracy: 0.9194\n",
            "Epoch 8/10\n",
            "15/15 [==============================] - 0s 8ms/step - loss: 0.3310 - accuracy: 0.9464 - val_loss: 0.3150 - val_accuracy: 0.9417\n",
            "Epoch 9/10\n",
            "15/15 [==============================] - 0s 7ms/step - loss: 0.2837 - accuracy: 0.9603 - val_loss: 0.2553 - val_accuracy: 0.9500\n",
            "Epoch 10/10\n",
            "15/15 [==============================] - 0s 8ms/step - loss: 0.2524 - accuracy: 0.9680 - val_loss: 0.2318 - val_accuracy: 0.9694\n",
            "Epoch 1/10\n",
            "15/15 [==============================] - 2s 27ms/step - loss: 2.2839 - accuracy: 0.2651 - val_loss: 1.6869 - val_accuracy: 0.4722\n",
            "Epoch 2/10\n",
            "15/15 [==============================] - 0s 8ms/step - loss: 1.4209 - accuracy: 0.5358 - val_loss: 1.1222 - val_accuracy: 0.6944\n",
            "Epoch 3/10\n",
            "15/15 [==============================] - 0s 8ms/step - loss: 1.0011 - accuracy: 0.7342 - val_loss: 0.8190 - val_accuracy: 0.8056\n",
            "Epoch 4/10\n",
            "15/15 [==============================] - 0s 7ms/step - loss: 0.7597 - accuracy: 0.8239 - val_loss: 0.6717 - val_accuracy: 0.8639\n",
            "Epoch 5/10\n",
            "15/15 [==============================] - 0s 8ms/step - loss: 0.5958 - accuracy: 0.8900 - val_loss: 0.5137 - val_accuracy: 0.9083\n",
            "Epoch 6/10\n",
            "15/15 [==============================] - 0s 8ms/step - loss: 0.4795 - accuracy: 0.9221 - val_loss: 0.4179 - val_accuracy: 0.9222\n",
            "Epoch 7/10\n",
            "15/15 [==============================] - 0s 7ms/step - loss: 0.3975 - accuracy: 0.9346 - val_loss: 0.3599 - val_accuracy: 0.9389\n",
            "Epoch 8/10\n",
            "15/15 [==============================] - 0s 8ms/step - loss: 0.3329 - accuracy: 0.9555 - val_loss: 0.3228 - val_accuracy: 0.9389\n",
            "Epoch 9/10\n",
            "15/15 [==============================] - 0s 7ms/step - loss: 0.2836 - accuracy: 0.9610 - val_loss: 0.2654 - val_accuracy: 0.9611\n",
            "Epoch 10/10\n",
            "15/15 [==============================] - 0s 7ms/step - loss: 0.2461 - accuracy: 0.9673 - val_loss: 0.2532 - val_accuracy: 0.9389\n",
            "Epoch 1/10\n",
            "15/15 [==============================] - 2s 27ms/step - loss: 2.2628 - accuracy: 0.2463 - val_loss: 1.8602 - val_accuracy: 0.4194\n",
            "Epoch 2/10\n",
            "15/15 [==============================] - 0s 8ms/step - loss: 1.2986 - accuracy: 0.6152 - val_loss: 1.0956 - val_accuracy: 0.7528\n",
            "Epoch 3/10\n",
            "15/15 [==============================] - 0s 7ms/step - loss: 0.8857 - accuracy: 0.7745 - val_loss: 0.7292 - val_accuracy: 0.8472\n",
            "Epoch 4/10\n",
            "15/15 [==============================] - 0s 7ms/step - loss: 0.6601 - accuracy: 0.8657 - val_loss: 0.5486 - val_accuracy: 0.8972\n",
            "Epoch 5/10\n",
            "15/15 [==============================] - 0s 7ms/step - loss: 0.5282 - accuracy: 0.8956 - val_loss: 0.4401 - val_accuracy: 0.9250\n",
            "Epoch 6/10\n",
            "15/15 [==============================] - 0s 8ms/step - loss: 0.4327 - accuracy: 0.9248 - val_loss: 0.4790 - val_accuracy: 0.9167\n",
            "Epoch 7/10\n",
            "15/15 [==============================] - 0s 6ms/step - loss: 0.3678 - accuracy: 0.9402 - val_loss: 0.3928 - val_accuracy: 0.9306\n",
            "Epoch 8/10\n",
            "15/15 [==============================] - 0s 8ms/step - loss: 0.3082 - accuracy: 0.9520 - val_loss: 0.2694 - val_accuracy: 0.9500\n",
            "Epoch 9/10\n",
            "15/15 [==============================] - 0s 7ms/step - loss: 0.2715 - accuracy: 0.9603 - val_loss: 0.2647 - val_accuracy: 0.9472\n",
            "Epoch 10/10\n",
            "15/15 [==============================] - 0s 7ms/step - loss: 0.2339 - accuracy: 0.9687 - val_loss: 0.2014 - val_accuracy: 0.9667\n",
            "Epoch 1/10\n",
            "15/15 [==============================] - 3s 33ms/step - loss: 2.4218 - accuracy: 0.1775 - val_loss: 1.7640 - val_accuracy: 0.3944\n",
            "Epoch 2/10\n",
            "15/15 [==============================] - 0s 7ms/step - loss: 1.4405 - accuracy: 0.5449 - val_loss: 1.1463 - val_accuracy: 0.7389\n",
            "Epoch 3/10\n",
            "15/15 [==============================] - 0s 7ms/step - loss: 1.0056 - accuracy: 0.7293 - val_loss: 0.8066 - val_accuracy: 0.8472\n",
            "Epoch 4/10\n",
            "15/15 [==============================] - 0s 7ms/step - loss: 0.7662 - accuracy: 0.8267 - val_loss: 0.6303 - val_accuracy: 0.9056\n",
            "Epoch 5/10\n",
            "15/15 [==============================] - 0s 7ms/step - loss: 0.6094 - accuracy: 0.8824 - val_loss: 0.4904 - val_accuracy: 0.9167\n",
            "Epoch 6/10\n",
            "15/15 [==============================] - 0s 8ms/step - loss: 0.5080 - accuracy: 0.8984 - val_loss: 0.4192 - val_accuracy: 0.9306\n",
            "Epoch 7/10\n",
            "15/15 [==============================] - 0s 7ms/step - loss: 0.4273 - accuracy: 0.9235 - val_loss: 0.3575 - val_accuracy: 0.9500\n",
            "Epoch 8/10\n",
            "15/15 [==============================] - 0s 7ms/step - loss: 0.3582 - accuracy: 0.9381 - val_loss: 0.2947 - val_accuracy: 0.9556\n",
            "Epoch 9/10\n",
            "15/15 [==============================] - 0s 6ms/step - loss: 0.3084 - accuracy: 0.9450 - val_loss: 0.2498 - val_accuracy: 0.9694\n",
            "Epoch 10/10\n",
            "15/15 [==============================] - 0s 7ms/step - loss: 0.2686 - accuracy: 0.9562 - val_loss: 0.2173 - val_accuracy: 0.9722\n",
            "Epoch 1/10\n",
            "15/15 [==============================] - 2s 26ms/step - loss: 1.8464 - accuracy: 0.3869 - val_loss: 1.2681 - val_accuracy: 0.6250\n",
            "Epoch 2/10\n",
            "15/15 [==============================] - 0s 9ms/step - loss: 1.0508 - accuracy: 0.7133 - val_loss: 0.8111 - val_accuracy: 0.8250\n",
            "Epoch 3/10\n",
            "15/15 [==============================] - 0s 8ms/step - loss: 0.7258 - accuracy: 0.8448 - val_loss: 0.6070 - val_accuracy: 0.8833\n",
            "Epoch 4/10\n",
            "15/15 [==============================] - 0s 9ms/step - loss: 0.5518 - accuracy: 0.9012 - val_loss: 0.4751 - val_accuracy: 0.9083\n",
            "Epoch 5/10\n",
            "15/15 [==============================] - 0s 8ms/step - loss: 0.4391 - accuracy: 0.9255 - val_loss: 0.3875 - val_accuracy: 0.9417\n",
            "Epoch 6/10\n",
            "15/15 [==============================] - 0s 6ms/step - loss: 0.3588 - accuracy: 0.9422 - val_loss: 0.3239 - val_accuracy: 0.9389\n",
            "Epoch 7/10\n",
            "15/15 [==============================] - 0s 7ms/step - loss: 0.3058 - accuracy: 0.9513 - val_loss: 0.2841 - val_accuracy: 0.9444\n",
            "Epoch 8/10\n",
            "15/15 [==============================] - 0s 6ms/step - loss: 0.2608 - accuracy: 0.9617 - val_loss: 0.2445 - val_accuracy: 0.9611\n",
            "Epoch 9/10\n",
            "15/15 [==============================] - 0s 6ms/step - loss: 0.2253 - accuracy: 0.9666 - val_loss: 0.2223 - val_accuracy: 0.9556\n",
            "Epoch 10/10\n",
            "15/15 [==============================] - 0s 7ms/step - loss: 0.2022 - accuracy: 0.9659 - val_loss: 0.2013 - val_accuracy: 0.9694\n",
            "Epoch 1/10\n",
            "15/15 [==============================] - 2s 25ms/step - loss: 2.3122 - accuracy: 0.2359 - val_loss: 1.5615 - val_accuracy: 0.4917\n",
            "Epoch 2/10\n",
            "15/15 [==============================] - 0s 7ms/step - loss: 1.3441 - accuracy: 0.6019 - val_loss: 0.9456 - val_accuracy: 0.7611\n",
            "Epoch 3/10\n",
            "15/15 [==============================] - 0s 7ms/step - loss: 0.9065 - accuracy: 0.7898 - val_loss: 0.6593 - val_accuracy: 0.8611\n",
            "Epoch 4/10\n",
            "15/15 [==============================] - 0s 6ms/step - loss: 0.6609 - accuracy: 0.8664 - val_loss: 0.5015 - val_accuracy: 0.9000\n",
            "Epoch 5/10\n",
            "15/15 [==============================] - 0s 8ms/step - loss: 0.5181 - accuracy: 0.8991 - val_loss: 0.4037 - val_accuracy: 0.9222\n",
            "Epoch 6/10\n",
            "15/15 [==============================] - 0s 6ms/step - loss: 0.4196 - accuracy: 0.9262 - val_loss: 0.3437 - val_accuracy: 0.9417\n",
            "Epoch 7/10\n",
            "15/15 [==============================] - 0s 8ms/step - loss: 0.3513 - accuracy: 0.9415 - val_loss: 0.2910 - val_accuracy: 0.9500\n",
            "Epoch 8/10\n",
            "15/15 [==============================] - 0s 7ms/step - loss: 0.2985 - accuracy: 0.9548 - val_loss: 0.2578 - val_accuracy: 0.9500\n",
            "Epoch 9/10\n",
            "15/15 [==============================] - 0s 6ms/step - loss: 0.2583 - accuracy: 0.9624 - val_loss: 0.2295 - val_accuracy: 0.9583\n",
            "Epoch 10/10\n",
            "15/15 [==============================] - 0s 7ms/step - loss: 0.2327 - accuracy: 0.9631 - val_loss: 0.2058 - val_accuracy: 0.9528\n",
            "Epoch 1/10\n",
            "15/15 [==============================] - 3s 40ms/step - loss: 2.1764 - accuracy: 0.2394 - val_loss: 1.5879 - val_accuracy: 0.4722\n",
            "Epoch 2/10\n",
            "15/15 [==============================] - 0s 11ms/step - loss: 1.2689 - accuracy: 0.6263 - val_loss: 0.9448 - val_accuracy: 0.7556\n",
            "Epoch 3/10\n",
            "15/15 [==============================] - 0s 11ms/step - loss: 0.8743 - accuracy: 0.7912 - val_loss: 0.6874 - val_accuracy: 0.8500\n",
            "Epoch 4/10\n",
            "15/15 [==============================] - 0s 9ms/step - loss: 0.6582 - accuracy: 0.8615 - val_loss: 0.5334 - val_accuracy: 0.9056\n",
            "Epoch 5/10\n",
            "15/15 [==============================] - 0s 9ms/step - loss: 0.5263 - accuracy: 0.8942 - val_loss: 0.4294 - val_accuracy: 0.9278\n",
            "Epoch 6/10\n",
            "15/15 [==============================] - 0s 10ms/step - loss: 0.4367 - accuracy: 0.9144 - val_loss: 0.3663 - val_accuracy: 0.9333\n",
            "Epoch 7/10\n",
            "15/15 [==============================] - 0s 11ms/step - loss: 0.3693 - accuracy: 0.9283 - val_loss: 0.3093 - val_accuracy: 0.9417\n",
            "Epoch 8/10\n",
            "15/15 [==============================] - 0s 11ms/step - loss: 0.3127 - accuracy: 0.9471 - val_loss: 0.2713 - val_accuracy: 0.9500\n",
            "Epoch 9/10\n",
            "15/15 [==============================] - 0s 11ms/step - loss: 0.2697 - accuracy: 0.9589 - val_loss: 0.2406 - val_accuracy: 0.9556\n",
            "Epoch 10/10\n",
            "15/15 [==============================] - 0s 10ms/step - loss: 0.2441 - accuracy: 0.9562 - val_loss: 0.2123 - val_accuracy: 0.9611\n"
          ]
        },
        {
          "output_type": "display_data",
          "data": {
            "text/plain": [
              "<Figure size 432x288 with 1 Axes>"
            ],
            "image/png": "[encoded data removed]"
          },
          "metadata": {
            "needs_background": "light"
          }
        },
        {
          "output_type": "stream",
          "name": "stdout",
          "text": [
            "Epoch 1/10\n",
            "15/15 [==============================] - 2s 25ms/step - loss: 2.4180 - accuracy: 0.2136 - val_loss: 1.8828 - val_accuracy: 0.4528\n",
            "Epoch 2/10\n",
            "15/15 [==============================] - 0s 7ms/step - loss: 1.3156 - accuracy: 0.6193 - val_loss: 1.2469 - val_accuracy: 0.7194\n",
            "Epoch 3/10\n",
            "15/15 [==============================] - 0s 9ms/step - loss: 0.8468 - accuracy: 0.8142 - val_loss: 0.8512 - val_accuracy: 0.8111\n",
            "Epoch 4/10\n",
            "15/15 [==============================] - 0s 7ms/step - loss: 0.6235 - accuracy: 0.8678 - val_loss: 0.7262 - val_accuracy: 0.8722\n",
            "Epoch 5/10\n",
            "15/15 [==============================] - 0s 7ms/step - loss: 0.4963 - accuracy: 0.9158 - val_loss: 0.5371 - val_accuracy: 0.9194\n",
            "Epoch 6/10\n",
            "15/15 [==============================] - 0s 7ms/step - loss: 0.4058 - accuracy: 0.9408 - val_loss: 0.4485 - val_accuracy: 0.9306\n",
            "Epoch 7/10\n",
            "15/15 [==============================] - 0s 7ms/step - loss: 0.3368 - accuracy: 0.9485 - val_loss: 0.4514 - val_accuracy: 0.9528\n",
            "Epoch 8/10\n",
            "15/15 [==============================] - 0s 8ms/step - loss: 0.2944 - accuracy: 0.9548 - val_loss: 0.4061 - val_accuracy: 0.9500\n",
            "Epoch 9/10\n",
            "15/15 [==============================] - 0s 8ms/step - loss: 0.2552 - accuracy: 0.9603 - val_loss: 0.3403 - val_accuracy: 0.9556\n",
            "Epoch 10/10\n",
            "15/15 [==============================] - 0s 8ms/step - loss: 0.2282 - accuracy: 0.9659 - val_loss: 0.3320 - val_accuracy: 0.9583\n",
            "Epoch 1/10\n",
            "15/15 [==============================] - 4s 31ms/step - loss: 2.2109 - accuracy: 0.2498 - val_loss: 1.5414 - val_accuracy: 0.5056\n",
            "Epoch 2/10\n",
            "15/15 [==============================] - 0s 8ms/step - loss: 1.2817 - accuracy: 0.6214 - val_loss: 0.9881 - val_accuracy: 0.7667\n",
            "Epoch 3/10\n",
            "15/15 [==============================] - 0s 8ms/step - loss: 0.8542 - accuracy: 0.7919 - val_loss: 0.7312 - val_accuracy: 0.8611\n",
            "Epoch 4/10\n",
            "15/15 [==============================] - 0s 10ms/step - loss: 0.6452 - accuracy: 0.8650 - val_loss: 0.5509 - val_accuracy: 0.9056\n",
            "Epoch 5/10\n",
            "15/15 [==============================] - 0s 9ms/step - loss: 0.5115 - accuracy: 0.9130 - val_loss: 0.4430 - val_accuracy: 0.9222\n",
            "Epoch 6/10\n",
            "15/15 [==============================] - 0s 8ms/step - loss: 0.4173 - accuracy: 0.9360 - val_loss: 0.3824 - val_accuracy: 0.9444\n",
            "Epoch 7/10\n",
            "15/15 [==============================] - 0s 7ms/step - loss: 0.3493 - accuracy: 0.9436 - val_loss: 0.3416 - val_accuracy: 0.9417\n",
            "Epoch 8/10\n",
            "15/15 [==============================] - 0s 11ms/step - loss: 0.3133 - accuracy: 0.9548 - val_loss: 0.2943 - val_accuracy: 0.9583\n",
            "Epoch 9/10\n",
            "15/15 [==============================] - 0s 12ms/step - loss: 0.2611 - accuracy: 0.9596 - val_loss: 0.2697 - val_accuracy: 0.9389\n",
            "Epoch 10/10\n",
            "15/15 [==============================] - 0s 12ms/step - loss: 0.2428 - accuracy: 0.9582 - val_loss: 0.2308 - val_accuracy: 0.9556\n",
            "Epoch 1/10\n",
            "15/15 [==============================] - 3s 29ms/step - loss: 2.5482 - accuracy: 0.2109 - val_loss: 2.2717 - val_accuracy: 0.3806\n",
            "Epoch 2/10\n",
            "15/15 [==============================] - 0s 7ms/step - loss: 1.4972 - accuracy: 0.5310 - val_loss: 1.5557 - val_accuracy: 0.6361\n",
            "Epoch 3/10\n",
            "15/15 [==============================] - 0s 8ms/step - loss: 1.0060 - accuracy: 0.7251 - val_loss: 0.9685 - val_accuracy: 0.7667\n",
            "Epoch 4/10\n",
            "15/15 [==============================] - 0s 9ms/step - loss: 0.7795 - accuracy: 0.8128 - val_loss: 0.7275 - val_accuracy: 0.8167\n",
            "Epoch 5/10\n",
            "15/15 [==============================] - 0s 8ms/step - loss: 0.6189 - accuracy: 0.8622 - val_loss: 0.5780 - val_accuracy: 0.8889\n",
            "Epoch 6/10\n",
            "15/15 [==============================] - 0s 7ms/step - loss: 0.5040 - accuracy: 0.8942 - val_loss: 0.5266 - val_accuracy: 0.9028\n",
            "Epoch 7/10\n",
            "15/15 [==============================] - 0s 9ms/step - loss: 0.4141 - accuracy: 0.9241 - val_loss: 0.4439 - val_accuracy: 0.9139\n",
            "Epoch 8/10\n",
            "15/15 [==============================] - 0s 6ms/step - loss: 0.3640 - accuracy: 0.9346 - val_loss: 0.3526 - val_accuracy: 0.9389\n",
            "Epoch 9/10\n",
            "15/15 [==============================] - 0s 7ms/step - loss: 0.3168 - accuracy: 0.9367 - val_loss: 0.3089 - val_accuracy: 0.9500\n",
            "Epoch 10/10\n",
            "15/15 [==============================] - 0s 9ms/step - loss: 0.2829 - accuracy: 0.9506 - val_loss: 0.3159 - val_accuracy: 0.9333\n",
            "Epoch 1/10\n",
            "15/15 [==============================] - 2s 26ms/step - loss: 2.1455 - accuracy: 0.3264 - val_loss: 1.4479 - val_accuracy: 0.5444\n",
            "Epoch 2/10\n",
            "15/15 [==============================] - 0s 9ms/step - loss: 1.2580 - accuracy: 0.6235 - val_loss: 0.9428 - val_accuracy: 0.7139\n",
            "Epoch 3/10\n",
            "15/15 [==============================] - 0s 7ms/step - loss: 0.8735 - accuracy: 0.7871 - val_loss: 0.6716 - val_accuracy: 0.8278\n",
            "Epoch 4/10\n",
            "15/15 [==============================] - 0s 7ms/step - loss: 0.6592 - accuracy: 0.8601 - val_loss: 0.5287 - val_accuracy: 0.8833\n",
            "Epoch 5/10\n",
            "15/15 [==============================] - 0s 7ms/step - loss: 0.5272 - accuracy: 0.9040 - val_loss: 0.4059 - val_accuracy: 0.9167\n",
            "Epoch 6/10\n",
            "15/15 [==============================] - 0s 7ms/step - loss: 0.4256 - accuracy: 0.9269 - val_loss: 0.3416 - val_accuracy: 0.9278\n",
            "Epoch 7/10\n",
            "15/15 [==============================] - 0s 7ms/step - loss: 0.3616 - accuracy: 0.9332 - val_loss: 0.2910 - val_accuracy: 0.9361\n",
            "Epoch 8/10\n",
            "15/15 [==============================] - 0s 7ms/step - loss: 0.3031 - accuracy: 0.9492 - val_loss: 0.2368 - val_accuracy: 0.9611\n",
            "Epoch 9/10\n",
            "15/15 [==============================] - 0s 6ms/step - loss: 0.2542 - accuracy: 0.9555 - val_loss: 0.2320 - val_accuracy: 0.9611\n",
            "Epoch 10/10\n",
            "15/15 [==============================] - 0s 8ms/step - loss: 0.2296 - accuracy: 0.9624 - val_loss: 0.1960 - val_accuracy: 0.9611\n",
            "Epoch 1/10\n",
            "15/15 [==============================] - 3s 42ms/step - loss: 2.5248 - accuracy: 0.1781 - val_loss: 1.7346 - val_accuracy: 0.4444\n",
            "Epoch 2/10\n",
            "15/15 [==============================] - 0s 14ms/step - loss: 1.4921 - accuracy: 0.5324 - val_loss: 1.1536 - val_accuracy: 0.6972\n",
            "Epoch 3/10\n",
            "15/15 [==============================] - 0s 11ms/step - loss: 1.0011 - accuracy: 0.7571 - val_loss: 0.8426 - val_accuracy: 0.8389\n",
            "Epoch 4/10\n",
            "15/15 [==============================] - 0s 11ms/step - loss: 0.7484 - accuracy: 0.8379 - val_loss: 0.6646 - val_accuracy: 0.8722\n",
            "Epoch 5/10\n",
            "15/15 [==============================] - 0s 13ms/step - loss: 0.5936 - accuracy: 0.8796 - val_loss: 0.5508 - val_accuracy: 0.9028\n",
            "Epoch 6/10\n",
            "15/15 [==============================] - 0s 12ms/step - loss: 0.4830 - accuracy: 0.9123 - val_loss: 0.4591 - val_accuracy: 0.9250\n",
            "Epoch 7/10\n",
            "15/15 [==============================] - 0s 11ms/step - loss: 0.4001 - accuracy: 0.9297 - val_loss: 0.3973 - val_accuracy: 0.9500\n",
            "Epoch 8/10\n",
            "15/15 [==============================] - 0s 11ms/step - loss: 0.3518 - accuracy: 0.9332 - val_loss: 0.3315 - val_accuracy: 0.9667\n",
            "Epoch 9/10\n",
            "15/15 [==============================] - 0s 10ms/step - loss: 0.3040 - accuracy: 0.9506 - val_loss: 0.2733 - val_accuracy: 0.9583\n",
            "Epoch 10/10\n",
            "15/15 [==============================] - 0s 10ms/step - loss: 0.2544 - accuracy: 0.9582 - val_loss: 0.2880 - val_accuracy: 0.9722\n",
            "Epoch 1/10\n",
            "15/15 [==============================] - 3s 43ms/step - loss: 2.1459 - accuracy: 0.3062 - val_loss: 1.5218 - val_accuracy: 0.5417\n",
            "Epoch 2/10\n",
            "15/15 [==============================] - 0s 11ms/step - loss: 1.2090 - accuracy: 0.6688 - val_loss: 0.9275 - val_accuracy: 0.7944\n",
            "Epoch 3/10\n",
            "15/15 [==============================] - 0s 10ms/step - loss: 0.7879 - accuracy: 0.8309 - val_loss: 0.6414 - val_accuracy: 0.8722\n",
            "Epoch 4/10\n",
            "15/15 [==============================] - 0s 9ms/step - loss: 0.5770 - accuracy: 0.8935 - val_loss: 0.5097 - val_accuracy: 0.8972\n",
            "Epoch 5/10\n",
            "15/15 [==============================] - 0s 10ms/step - loss: 0.4558 - accuracy: 0.9158 - val_loss: 0.4000 - val_accuracy: 0.9083\n",
            "Epoch 6/10\n",
            "15/15 [==============================] - 0s 10ms/step - loss: 0.3740 - accuracy: 0.9402 - val_loss: 0.3672 - val_accuracy: 0.9222\n",
            "Epoch 7/10\n",
            "15/15 [==============================] - 0s 10ms/step - loss: 0.3118 - accuracy: 0.9527 - val_loss: 0.3057 - val_accuracy: 0.9278\n",
            "Epoch 8/10\n",
            "15/15 [==============================] - 0s 10ms/step - loss: 0.2687 - accuracy: 0.9596 - val_loss: 0.2607 - val_accuracy: 0.9556\n",
            "Epoch 9/10\n",
            "15/15 [==============================] - 0s 11ms/step - loss: 0.2339 - accuracy: 0.9715 - val_loss: 0.2320 - val_accuracy: 0.9667\n",
            "Epoch 10/10\n",
            "15/15 [==============================] - 0s 9ms/step - loss: 0.2057 - accuracy: 0.9729 - val_loss: 0.2091 - val_accuracy: 0.9639\n",
            "Epoch 1/10\n",
            "15/15 [==============================] - 2s 27ms/step - loss: 2.6960 - accuracy: 0.1211 - val_loss: 2.0074 - val_accuracy: 0.3028\n",
            "Epoch 2/10\n",
            "15/15 [==============================] - 0s 8ms/step - loss: 1.6222 - accuracy: 0.4690 - val_loss: 1.2968 - val_accuracy: 0.6500\n",
            "Epoch 3/10\n",
            "15/15 [==============================] - 0s 8ms/step - loss: 1.1096 - accuracy: 0.7251 - val_loss: 0.9034 - val_accuracy: 0.8083\n",
            "Epoch 4/10\n",
            "15/15 [==============================] - 0s 7ms/step - loss: 0.8249 - accuracy: 0.8392 - val_loss: 0.6920 - val_accuracy: 0.8722\n",
            "Epoch 5/10\n",
            "15/15 [==============================] - 0s 7ms/step - loss: 0.6556 - accuracy: 0.8817 - val_loss: 0.5609 - val_accuracy: 0.8944\n",
            "Epoch 6/10\n",
            "15/15 [==============================] - 0s 8ms/step - loss: 0.5335 - accuracy: 0.9054 - val_loss: 0.4581 - val_accuracy: 0.9222\n",
            "Epoch 7/10\n",
            "15/15 [==============================] - 0s 8ms/step - loss: 0.4453 - accuracy: 0.9276 - val_loss: 0.3699 - val_accuracy: 0.9500\n",
            "Epoch 8/10\n",
            "15/15 [==============================] - 0s 7ms/step - loss: 0.3738 - accuracy: 0.9415 - val_loss: 0.3237 - val_accuracy: 0.9583\n",
            "Epoch 9/10\n",
            "15/15 [==============================] - 0s 7ms/step - loss: 0.3263 - accuracy: 0.9478 - val_loss: 0.2667 - val_accuracy: 0.9667\n",
            "Epoch 10/10\n",
            "15/15 [==============================] - 0s 7ms/step - loss: 0.2864 - accuracy: 0.9576 - val_loss: 0.2313 - val_accuracy: 0.9778\n",
            "Epoch 1/10\n",
            "15/15 [==============================] - 3s 42ms/step - loss: 2.2189 - accuracy: 0.2491 - val_loss: 1.5689 - val_accuracy: 0.4417\n",
            "Epoch 2/10\n",
            "15/15 [==============================] - 0s 11ms/step - loss: 1.3046 - accuracy: 0.5825 - val_loss: 1.0328 - val_accuracy: 0.6944\n",
            "Epoch 3/10\n",
            "15/15 [==============================] - 0s 9ms/step - loss: 0.9148 - accuracy: 0.7460 - val_loss: 0.8097 - val_accuracy: 0.8250\n",
            "Epoch 4/10\n",
            "15/15 [==============================] - 0s 10ms/step - loss: 0.6996 - accuracy: 0.8281 - val_loss: 0.6762 - val_accuracy: 0.8750\n",
            "Epoch 5/10\n",
            "15/15 [==============================] - 0s 10ms/step - loss: 0.5542 - accuracy: 0.8803 - val_loss: 0.5717 - val_accuracy: 0.9111\n",
            "Epoch 6/10\n",
            "15/15 [==============================] - 0s 11ms/step - loss: 0.4544 - accuracy: 0.9095 - val_loss: 0.4943 - val_accuracy: 0.9250\n",
            "Epoch 7/10\n",
            "15/15 [==============================] - 0s 11ms/step - loss: 0.3742 - accuracy: 0.9381 - val_loss: 0.4365 - val_accuracy: 0.9500\n",
            "Epoch 8/10\n",
            "15/15 [==============================] - 0s 10ms/step - loss: 0.3260 - accuracy: 0.9443 - val_loss: 0.3948 - val_accuracy: 0.9500\n",
            "Epoch 9/10\n",
            "15/15 [==============================] - 0s 10ms/step - loss: 0.2819 - accuracy: 0.9513 - val_loss: 0.3600 - val_accuracy: 0.9528\n",
            "Epoch 10/10\n",
            "15/15 [==============================] - 0s 12ms/step - loss: 0.2421 - accuracy: 0.9596 - val_loss: 0.3372 - val_accuracy: 0.9611\n",
            "Epoch 1/10\n",
            "15/15 [==============================] - 2s 25ms/step - loss: 2.4574 - accuracy: 0.2081 - val_loss: 1.8673 - val_accuracy: 0.3972\n",
            "Epoch 2/10\n",
            "15/15 [==============================] - 0s 7ms/step - loss: 1.5639 - accuracy: 0.5205 - val_loss: 1.1790 - val_accuracy: 0.6944\n",
            "Epoch 3/10\n",
            "15/15 [==============================] - 0s 8ms/step - loss: 1.1173 - accuracy: 0.7161 - val_loss: 0.8340 - val_accuracy: 0.8056\n",
            "Epoch 4/10\n",
            "15/15 [==============================] - 0s 6ms/step - loss: 0.8395 - accuracy: 0.8051 - val_loss: 0.6235 - val_accuracy: 0.8722\n",
            "Epoch 5/10\n",
            "15/15 [==============================] - 0s 8ms/step - loss: 0.6580 - accuracy: 0.8685 - val_loss: 0.4927 - val_accuracy: 0.9056\n",
            "Epoch 6/10\n",
            "15/15 [==============================] - 0s 7ms/step - loss: 0.5274 - accuracy: 0.9040 - val_loss: 0.4154 - val_accuracy: 0.9278\n",
            "Epoch 7/10\n",
            "15/15 [==============================] - 0s 6ms/step - loss: 0.4428 - accuracy: 0.9179 - val_loss: 0.3565 - val_accuracy: 0.9444\n",
            "Epoch 8/10\n",
            "15/15 [==============================] - 0s 6ms/step - loss: 0.3669 - accuracy: 0.9367 - val_loss: 0.3110 - val_accuracy: 0.9472\n",
            "Epoch 9/10\n",
            "15/15 [==============================] - 0s 6ms/step - loss: 0.3192 - accuracy: 0.9541 - val_loss: 0.2711 - val_accuracy: 0.9528\n",
            "Epoch 10/10\n",
            "15/15 [==============================] - 0s 6ms/step - loss: 0.2789 - accuracy: 0.9610 - val_loss: 0.2320 - val_accuracy: 0.9583\n"
          ]
        },
        {
          "output_type": "display_data",
          "data": {
            "text/plain": [
              "<Figure size 432x288 with 1 Axes>"
            ],
            "image/png": "[encoded data removed]"
          },
          "metadata": {
            "needs_background": "light"
          }
        },
        {
          "output_type": "stream",
          "name": "stdout",
          "text": [
            "Epoch 1/10\n",
            "15/15 [==============================] - 2s 25ms/step - loss: 2.2732 - accuracy: 0.2227 - val_loss: 1.7060 - val_accuracy: 0.3917\n",
            "Epoch 2/10\n",
            "15/15 [==============================] - 0s 7ms/step - loss: 1.3262 - accuracy: 0.5818 - val_loss: 0.9652 - val_accuracy: 0.7167\n",
            "Epoch 3/10\n",
            "15/15 [==============================] - 0s 6ms/step - loss: 0.8739 - accuracy: 0.7891 - val_loss: 0.7349 - val_accuracy: 0.8028\n",
            "Epoch 4/10\n",
            "15/15 [==============================] - 0s 7ms/step - loss: 0.6493 - accuracy: 0.8699 - val_loss: 0.6200 - val_accuracy: 0.8778\n",
            "Epoch 5/10\n",
            "15/15 [==============================] - 0s 7ms/step - loss: 0.5127 - accuracy: 0.9123 - val_loss: 0.4608 - val_accuracy: 0.8861\n",
            "Epoch 6/10\n",
            "15/15 [==============================] - 0s 8ms/step - loss: 0.4330 - accuracy: 0.9255 - val_loss: 0.4036 - val_accuracy: 0.9139\n",
            "Epoch 7/10\n",
            "15/15 [==============================] - 0s 7ms/step - loss: 0.3591 - accuracy: 0.9402 - val_loss: 0.3876 - val_accuracy: 0.9167\n",
            "Epoch 8/10\n",
            "15/15 [==============================] - 0s 6ms/step - loss: 0.3076 - accuracy: 0.9582 - val_loss: 0.3742 - val_accuracy: 0.9111\n",
            "Epoch 9/10\n",
            "15/15 [==============================] - 0s 8ms/step - loss: 0.2806 - accuracy: 0.9541 - val_loss: 0.2827 - val_accuracy: 0.9333\n",
            "Epoch 10/10\n",
            "15/15 [==============================] - 0s 7ms/step - loss: 0.2442 - accuracy: 0.9617 - val_loss: 0.2994 - val_accuracy: 0.9361\n",
            "Epoch 1/10\n",
            "15/15 [==============================] - 4s 53ms/step - loss: 2.1523 - accuracy: 0.2721 - val_loss: 1.5627 - val_accuracy: 0.5278\n",
            "Epoch 2/10\n",
            "15/15 [==============================] - 0s 6ms/step - loss: 1.2567 - accuracy: 0.6548 - val_loss: 1.1298 - val_accuracy: 0.7250\n",
            "Epoch 3/10\n",
            "15/15 [==============================] - 0s 7ms/step - loss: 0.8587 - accuracy: 0.8072 - val_loss: 0.7685 - val_accuracy: 0.8361\n",
            "Epoch 4/10\n",
            "15/15 [==============================] - 0s 6ms/step - loss: 0.6480 - accuracy: 0.8692 - val_loss: 0.5868 - val_accuracy: 0.8694\n",
            "Epoch 5/10\n",
            "15/15 [==============================] - 0s 26ms/step - loss: 0.5129 - accuracy: 0.9061 - val_loss: 0.4755 - val_accuracy: 0.9111\n",
            "Epoch 6/10\n",
            "15/15 [==============================] - 0s 16ms/step - loss: 0.4404 - accuracy: 0.9235 - val_loss: 0.3991 - val_accuracy: 0.9028\n",
            "Epoch 7/10\n",
            "15/15 [==============================] - 0s 6ms/step - loss: 0.3497 - accuracy: 0.9492 - val_loss: 0.3508 - val_accuracy: 0.9361\n",
            "Epoch 8/10\n",
            "15/15 [==============================] - 0s 6ms/step - loss: 0.2949 - accuracy: 0.9582 - val_loss: 0.2923 - val_accuracy: 0.9333\n",
            "Epoch 9/10\n",
            "15/15 [==============================] - 0s 7ms/step - loss: 0.2596 - accuracy: 0.9617 - val_loss: 0.2362 - val_accuracy: 0.9417\n",
            "Epoch 10/10\n",
            "15/15 [==============================] - 0s 7ms/step - loss: 0.2320 - accuracy: 0.9687 - val_loss: 0.2153 - val_accuracy: 0.9417\n",
            "Epoch 1/10\n",
            "15/15 [==============================] - 4s 31ms/step - loss: 2.6829 - accuracy: 0.1232 - val_loss: 1.9784 - val_accuracy: 0.3389\n",
            "Epoch 2/10\n",
            "15/15 [==============================] - 0s 8ms/step - loss: 1.6013 - accuracy: 0.4558 - val_loss: 1.2687 - val_accuracy: 0.6139\n",
            "Epoch 3/10\n",
            "15/15 [==============================] - 0s 8ms/step - loss: 1.0983 - accuracy: 0.6987 - val_loss: 0.9164 - val_accuracy: 0.7750\n",
            "Epoch 4/10\n",
            "15/15 [==============================] - 0s 10ms/step - loss: 0.8133 - accuracy: 0.8274 - val_loss: 0.6999 - val_accuracy: 0.8194\n",
            "Epoch 5/10\n",
            "15/15 [==============================] - 0s 8ms/step - loss: 0.6320 - accuracy: 0.8733 - val_loss: 0.5857 - val_accuracy: 0.8750\n",
            "Epoch 6/10\n",
            "15/15 [==============================] - 0s 9ms/step - loss: 0.5042 - accuracy: 0.9095 - val_loss: 0.4738 - val_accuracy: 0.9111\n",
            "Epoch 7/10\n",
            "15/15 [==============================] - 0s 8ms/step - loss: 0.4269 - accuracy: 0.9193 - val_loss: 0.3776 - val_accuracy: 0.9222\n",
            "Epoch 8/10\n",
            "15/15 [==============================] - 0s 8ms/step - loss: 0.3628 - accuracy: 0.9429 - val_loss: 0.3834 - val_accuracy: 0.9083\n",
            "Epoch 9/10\n",
            "15/15 [==============================] - 0s 7ms/step - loss: 0.3184 - accuracy: 0.9450 - val_loss: 0.3150 - val_accuracy: 0.9500\n",
            "Epoch 10/10\n",
            "15/15 [==============================] - 0s 8ms/step - loss: 0.2749 - accuracy: 0.9582 - val_loss: 0.2760 - val_accuracy: 0.9389\n",
            "Epoch 1/10\n",
            "15/15 [==============================] - 3s 46ms/step - loss: 2.1659 - accuracy: 0.3271 - val_loss: 1.5175 - val_accuracy: 0.5361\n",
            "Epoch 2/10\n",
            "15/15 [==============================] - 0s 10ms/step - loss: 1.2627 - accuracy: 0.6430 - val_loss: 0.9166 - val_accuracy: 0.7806\n",
            "Epoch 3/10\n",
            "15/15 [==============================] - 0s 7ms/step - loss: 0.8639 - accuracy: 0.8031 - val_loss: 0.6569 - val_accuracy: 0.8611\n",
            "Epoch 4/10\n",
            "15/15 [==============================] - 0s 7ms/step - loss: 0.6324 - accuracy: 0.8692 - val_loss: 0.5017 - val_accuracy: 0.8972\n",
            "Epoch 5/10\n",
            "15/15 [==============================] - 0s 7ms/step - loss: 0.4961 - accuracy: 0.9130 - val_loss: 0.3985 - val_accuracy: 0.9278\n",
            "Epoch 6/10\n",
            "15/15 [==============================] - 0s 7ms/step - loss: 0.4044 - accuracy: 0.9235 - val_loss: 0.3176 - val_accuracy: 0.9389\n",
            "Epoch 7/10\n",
            "15/15 [==============================] - 0s 8ms/step - loss: 0.3352 - accuracy: 0.9374 - val_loss: 0.3005 - val_accuracy: 0.9333\n",
            "Epoch 8/10\n",
            "15/15 [==============================] - 0s 10ms/step - loss: 0.2907 - accuracy: 0.9478 - val_loss: 0.2622 - val_accuracy: 0.9500\n",
            "Epoch 9/10\n",
            "15/15 [==============================] - 0s 8ms/step - loss: 0.2520 - accuracy: 0.9562 - val_loss: 0.2214 - val_accuracy: 0.9583\n",
            "Epoch 10/10\n",
            "15/15 [==============================] - 0s 7ms/step - loss: 0.2172 - accuracy: 0.9638 - val_loss: 0.2044 - val_accuracy: 0.9583\n",
            "Epoch 1/10\n",
            "15/15 [==============================] - 2s 29ms/step - loss: 1.9214 - accuracy: 0.3827 - val_loss: 1.3204 - val_accuracy: 0.6028\n",
            "Epoch 2/10\n",
            "15/15 [==============================] - 0s 8ms/step - loss: 1.0778 - accuracy: 0.7056 - val_loss: 0.8583 - val_accuracy: 0.7750\n",
            "Epoch 3/10\n",
            "15/15 [==============================] - 0s 8ms/step - loss: 0.7356 - accuracy: 0.8386 - val_loss: 0.6504 - val_accuracy: 0.8500\n",
            "Epoch 4/10\n",
            "15/15 [==============================] - 0s 8ms/step - loss: 0.5594 - accuracy: 0.8907 - val_loss: 0.4876 - val_accuracy: 0.9056\n",
            "Epoch 5/10\n",
            "15/15 [==============================] - 0s 9ms/step - loss: 0.4386 - accuracy: 0.9235 - val_loss: 0.3862 - val_accuracy: 0.9278\n",
            "Epoch 6/10\n",
            "15/15 [==============================] - 0s 8ms/step - loss: 0.3610 - accuracy: 0.9415 - val_loss: 0.3156 - val_accuracy: 0.9333\n",
            "Epoch 7/10\n",
            "15/15 [==============================] - 0s 8ms/step - loss: 0.3010 - accuracy: 0.9562 - val_loss: 0.2820 - val_accuracy: 0.9472\n",
            "Epoch 8/10\n",
            "15/15 [==============================] - 0s 7ms/step - loss: 0.2682 - accuracy: 0.9534 - val_loss: 0.2479 - val_accuracy: 0.9583\n",
            "Epoch 9/10\n",
            "15/15 [==============================] - 0s 8ms/step - loss: 0.2307 - accuracy: 0.9638 - val_loss: 0.2235 - val_accuracy: 0.9639\n",
            "Epoch 10/10\n",
            "15/15 [==============================] - 0s 9ms/step - loss: 0.2049 - accuracy: 0.9687 - val_loss: 0.1887 - val_accuracy: 0.9639\n",
            "Epoch 1/10\n",
            "15/15 [==============================] - 2s 27ms/step - loss: 2.2671 - accuracy: 0.2603 - val_loss: 1.5530 - val_accuracy: 0.4861\n",
            "Epoch 2/10\n",
            "15/15 [==============================] - 0s 7ms/step - loss: 1.2980 - accuracy: 0.6180 - val_loss: 0.9543 - val_accuracy: 0.7667\n",
            "Epoch 3/10\n",
            "15/15 [==============================] - 0s 7ms/step - loss: 0.8717 - accuracy: 0.7905 - val_loss: 0.6736 - val_accuracy: 0.8667\n",
            "Epoch 4/10\n",
            "15/15 [==============================] - 0s 6ms/step - loss: 0.6431 - accuracy: 0.8789 - val_loss: 0.5052 - val_accuracy: 0.8833\n",
            "Epoch 5/10\n",
            "15/15 [==============================] - 0s 8ms/step - loss: 0.5187 - accuracy: 0.9054 - val_loss: 0.4131 - val_accuracy: 0.9222\n",
            "Epoch 6/10\n",
            "15/15 [==============================] - 0s 8ms/step - loss: 0.4304 - accuracy: 0.9228 - val_loss: 0.3563 - val_accuracy: 0.9361\n",
            "Epoch 7/10\n",
            "15/15 [==============================] - 0s 7ms/step - loss: 0.3600 - accuracy: 0.9339 - val_loss: 0.3260 - val_accuracy: 0.9389\n",
            "Epoch 8/10\n",
            "15/15 [==============================] - 0s 7ms/step - loss: 0.3122 - accuracy: 0.9506 - val_loss: 0.2678 - val_accuracy: 0.9528\n",
            "Epoch 9/10\n",
            "15/15 [==============================] - 0s 9ms/step - loss: 0.2708 - accuracy: 0.9562 - val_loss: 0.2425 - val_accuracy: 0.9583\n",
            "Epoch 10/10\n",
            "15/15 [==============================] - 0s 7ms/step - loss: 0.2404 - accuracy: 0.9652 - val_loss: 0.2227 - val_accuracy: 0.9556\n",
            "Epoch 1/10\n",
            "15/15 [==============================] - 3s 27ms/step - loss: 2.1015 - accuracy: 0.3041 - val_loss: 1.4096 - val_accuracy: 0.5889\n",
            "Epoch 2/10\n",
            "15/15 [==============================] - 0s 8ms/step - loss: 1.2250 - accuracy: 0.6500 - val_loss: 0.8901 - val_accuracy: 0.8194\n",
            "Epoch 3/10\n",
            "15/15 [==============================] - 0s 7ms/step - loss: 0.8276 - accuracy: 0.8093 - val_loss: 0.6466 - val_accuracy: 0.8861\n",
            "Epoch 4/10\n",
            "15/15 [==============================] - 0s 7ms/step - loss: 0.6210 - accuracy: 0.8713 - val_loss: 0.4909 - val_accuracy: 0.9111\n",
            "Epoch 5/10\n",
            "15/15 [==============================] - 0s 7ms/step - loss: 0.4861 - accuracy: 0.9130 - val_loss: 0.3961 - val_accuracy: 0.9444\n",
            "Epoch 6/10\n",
            "15/15 [==============================] - 0s 7ms/step - loss: 0.4045 - accuracy: 0.9283 - val_loss: 0.3302 - val_accuracy: 0.9417\n",
            "Epoch 7/10\n",
            "15/15 [==============================] - 0s 7ms/step - loss: 0.3408 - accuracy: 0.9381 - val_loss: 0.2835 - val_accuracy: 0.9444\n",
            "Epoch 8/10\n",
            "15/15 [==============================] - 0s 7ms/step - loss: 0.2900 - accuracy: 0.9555 - val_loss: 0.2531 - val_accuracy: 0.9528\n",
            "Epoch 9/10\n",
            "15/15 [==============================] - 0s 7ms/step - loss: 0.2535 - accuracy: 0.9617 - val_loss: 0.2238 - val_accuracy: 0.9639\n",
            "Epoch 10/10\n",
            "15/15 [==============================] - 0s 9ms/step - loss: 0.2204 - accuracy: 0.9680 - val_loss: 0.2006 - val_accuracy: 0.9611\n",
            "Epoch 1/10\n",
            "15/15 [==============================] - 2s 28ms/step - loss: 2.7613 - accuracy: 0.1434 - val_loss: 1.9093 - val_accuracy: 0.3583\n",
            "Epoch 2/10\n",
            "15/15 [==============================] - 0s 7ms/step - loss: 1.6900 - accuracy: 0.4447 - val_loss: 1.2125 - val_accuracy: 0.6194\n",
            "Epoch 3/10\n",
            "15/15 [==============================] - 0s 8ms/step - loss: 1.0960 - accuracy: 0.7056 - val_loss: 0.8129 - val_accuracy: 0.8333\n",
            "Epoch 4/10\n",
            "15/15 [==============================] - 0s 7ms/step - loss: 0.7642 - accuracy: 0.8309 - val_loss: 0.6149 - val_accuracy: 0.8722\n",
            "Epoch 5/10\n",
            "15/15 [==============================] - 0s 8ms/step - loss: 0.5803 - accuracy: 0.8866 - val_loss: 0.4783 - val_accuracy: 0.9056\n",
            "Epoch 6/10\n",
            "15/15 [==============================] - 0s 8ms/step - loss: 0.4714 - accuracy: 0.9179 - val_loss: 0.3879 - val_accuracy: 0.9278\n",
            "Epoch 7/10\n",
            "15/15 [==============================] - 0s 9ms/step - loss: 0.3913 - accuracy: 0.9353 - val_loss: 0.3396 - val_accuracy: 0.9333\n",
            "Epoch 8/10\n",
            "15/15 [==============================] - 0s 8ms/step - loss: 0.3371 - accuracy: 0.9450 - val_loss: 0.2857 - val_accuracy: 0.9444\n",
            "Epoch 9/10\n",
            "15/15 [==============================] - 0s 8ms/step - loss: 0.2891 - accuracy: 0.9520 - val_loss: 0.2618 - val_accuracy: 0.9528\n",
            "Epoch 10/10\n",
            "15/15 [==============================] - 0s 7ms/step - loss: 0.2538 - accuracy: 0.9624 - val_loss: 0.2340 - val_accuracy: 0.9583\n",
            "Epoch 1/10\n",
            "15/15 [==============================] - 3s 40ms/step - loss: 2.1021 - accuracy: 0.3027 - val_loss: 1.4708 - val_accuracy: 0.4750\n",
            "Epoch 2/10\n",
            "15/15 [==============================] - 0s 11ms/step - loss: 1.2120 - accuracy: 0.6235 - val_loss: 0.8797 - val_accuracy: 0.8056\n",
            "Epoch 3/10\n",
            "15/15 [==============================] - 0s 11ms/step - loss: 0.8127 - accuracy: 0.7912 - val_loss: 0.6272 - val_accuracy: 0.8667\n",
            "Epoch 4/10\n",
            "15/15 [==============================] - 0s 11ms/step - loss: 0.6020 - accuracy: 0.8643 - val_loss: 0.4898 - val_accuracy: 0.8944\n",
            "Epoch 5/10\n",
            "15/15 [==============================] - 0s 10ms/step - loss: 0.4759 - accuracy: 0.9068 - val_loss: 0.4113 - val_accuracy: 0.9194\n",
            "Epoch 6/10\n",
            "15/15 [==============================] - 0s 10ms/step - loss: 0.3837 - accuracy: 0.9311 - val_loss: 0.3529 - val_accuracy: 0.9333\n",
            "Epoch 7/10\n",
            "15/15 [==============================] - 0s 11ms/step - loss: 0.3295 - accuracy: 0.9395 - val_loss: 0.3126 - val_accuracy: 0.9444\n",
            "Epoch 8/10\n",
            "15/15 [==============================] - 0s 11ms/step - loss: 0.2803 - accuracy: 0.9492 - val_loss: 0.2787 - val_accuracy: 0.9500\n",
            "Epoch 9/10\n",
            "15/15 [==============================] - 0s 11ms/step - loss: 0.2493 - accuracy: 0.9624 - val_loss: 0.2554 - val_accuracy: 0.9500\n",
            "Epoch 10/10\n",
            "15/15 [==============================] - 0s 14ms/step - loss: 0.2205 - accuracy: 0.9666 - val_loss: 0.2339 - val_accuracy: 0.9556\n"
          ]
        },
        {
          "output_type": "display_data",
          "data": {
            "text/plain": [
              "<Figure size 432x288 with 1 Axes>"
            ],
            "image/png": "[encoded data removed]"
          },
          "metadata": {
            "needs_background": "light"
          }
        }
      ]
    },
    {
      "cell_type": "code",
      "source": [
        "# Define function to create and compile model\n",
        "def create_model(momentum):\n",
        "    model = Sequential()\n",
        "    model.add(Dense(64, activation='relu', input_dim=64))\n",
        "    model.add(BatchNormalization(axis=1, momentum=momentum))\n",
        "    model.add(Dense(30, activation='relu'))\n",
        "    model.add(BatchNormalization(axis=1, momentum=momentum))\n",
        "    model.add(Dense(10, activation='sigmoid'))\n",
        "\n",
        "    model.compile(optimizer='adam', loss='categorical_crossentropy', metrics=['accuracy'])\n",
        "    return model\n",
        "\n",
        "\n",
        "# Define list of momentum values to try\n",
        "momentum_values = [0.1, 0.2, 0.3, 0.4, 0.5, 0.6, 0.7, 0.8, 0.9]\n",
        "\n",
        "# Train and evaluate models for each momentum value\n",
        "for momentum in momentum_values:\n",
        "    model = create_model(momentum)\n",
        "    history = model.fit(X_train, y_train, validation_data=(X_test, y_test), epochs=10, batch_size=100)\n",
        "    plt.plot(history.history['val_loss'], label=f'momentum={momentum}')\n",
        "\n",
        "plt.title('Batch Normalization Momentum vs. Loss')\n",
        "plt.xlabel('Epoch')\n",
        "plt.ylabel('Loss')\n",
        "plt.legend()\n",
        "plt.show()"
      ],
      "metadata": {
        "colab": {
          "base_uri": "https://localhost:8080/",
          "height": 1000
        },
        "id": "jbbbBeP-MaP9",
        "outputId": "f23c1b4e-7716-4bfe-e5c3-c63121f8157f"
      },
      "execution_count": null,
      "outputs": [
        {
          "output_type": "stream",
          "name": "stdout",
          "text": [
            "Epoch 1/10\n",
            "15/15 [==============================] - 4s 38ms/step - loss: 2.2096 - accuracy: 0.2679 - val_loss: 2.0069 - val_accuracy: 0.4528\n",
            "Epoch 2/10\n",
            "15/15 [==============================] - 0s 9ms/step - loss: 1.2495 - accuracy: 0.6326 - val_loss: 1.1450 - val_accuracy: 0.7250\n",
            "Epoch 3/10\n",
            "15/15 [==============================] - 0s 9ms/step - loss: 0.8385 - accuracy: 0.8058 - val_loss: 0.9845 - val_accuracy: 0.8389\n",
            "Epoch 4/10\n",
            "15/15 [==============================] - 0s 10ms/step - loss: 0.6226 - accuracy: 0.8740 - val_loss: 0.7531 - val_accuracy: 0.8917\n",
            "Epoch 5/10\n",
            "15/15 [==============================] - 0s 9ms/step - loss: 0.4937 - accuracy: 0.9123 - val_loss: 0.4516 - val_accuracy: 0.8889\n",
            "Epoch 6/10\n",
            "15/15 [==============================] - 0s 11ms/step - loss: 0.4064 - accuracy: 0.9360 - val_loss: 0.4620 - val_accuracy: 0.9278\n",
            "Epoch 7/10\n",
            "15/15 [==============================] - 0s 11ms/step - loss: 0.3450 - accuracy: 0.9422 - val_loss: 0.4149 - val_accuracy: 0.9444\n",
            "Epoch 8/10\n",
            "15/15 [==============================] - 0s 11ms/step - loss: 0.3008 - accuracy: 0.9534 - val_loss: 0.3352 - val_accuracy: 0.9500\n",
            "Epoch 9/10\n",
            "15/15 [==============================] - 0s 10ms/step - loss: 0.2522 - accuracy: 0.9624 - val_loss: 0.3623 - val_accuracy: 0.9444\n",
            "Epoch 10/10\n",
            "15/15 [==============================] - 0s 10ms/step - loss: 0.2247 - accuracy: 0.9652 - val_loss: 0.2374 - val_accuracy: 0.9556\n",
            "Epoch 1/10\n",
            "15/15 [==============================] - 3s 77ms/step - loss: 2.1165 - accuracy: 0.2951 - val_loss: 1.8344 - val_accuracy: 0.5083\n",
            "Epoch 2/10\n",
            "15/15 [==============================] - 0s 7ms/step - loss: 1.2063 - accuracy: 0.6507 - val_loss: 1.0591 - val_accuracy: 0.7361\n",
            "Epoch 3/10\n",
            "15/15 [==============================] - 0s 8ms/step - loss: 0.7958 - accuracy: 0.8031 - val_loss: 0.6803 - val_accuracy: 0.8361\n",
            "Epoch 4/10\n",
            "15/15 [==============================] - 0s 8ms/step - loss: 0.5874 - accuracy: 0.8685 - val_loss: 0.5208 - val_accuracy: 0.8806\n",
            "Epoch 5/10\n",
            "15/15 [==============================] - 0s 7ms/step - loss: 0.4650 - accuracy: 0.8998 - val_loss: 0.4647 - val_accuracy: 0.9056\n",
            "Epoch 6/10\n",
            "15/15 [==============================] - 0s 7ms/step - loss: 0.3777 - accuracy: 0.9283 - val_loss: 0.4422 - val_accuracy: 0.9056\n",
            "Epoch 7/10\n",
            "15/15 [==============================] - 0s 7ms/step - loss: 0.3218 - accuracy: 0.9408 - val_loss: 0.3208 - val_accuracy: 0.9389\n",
            "Epoch 8/10\n",
            "15/15 [==============================] - 0s 9ms/step - loss: 0.2711 - accuracy: 0.9562 - val_loss: 0.3090 - val_accuracy: 0.9306\n",
            "Epoch 9/10\n",
            "15/15 [==============================] - 0s 7ms/step - loss: 0.2307 - accuracy: 0.9673 - val_loss: 0.2946 - val_accuracy: 0.9472\n",
            "Epoch 10/10\n",
            "15/15 [==============================] - 0s 7ms/step - loss: 0.2051 - accuracy: 0.9729 - val_loss: 0.2583 - val_accuracy: 0.9444\n",
            "Epoch 1/10\n",
            "15/15 [==============================] - 3s 33ms/step - loss: 2.0498 - accuracy: 0.3166 - val_loss: 1.3497 - val_accuracy: 0.5583\n",
            "Epoch 2/10\n",
            "15/15 [==============================] - 0s 7ms/step - loss: 1.1441 - accuracy: 0.6841 - val_loss: 0.8504 - val_accuracy: 0.8000\n",
            "Epoch 3/10\n",
            "15/15 [==============================] - 0s 7ms/step - loss: 0.7677 - accuracy: 0.8232 - val_loss: 0.5833 - val_accuracy: 0.8972\n",
            "Epoch 4/10\n",
            "15/15 [==============================] - 0s 6ms/step - loss: 0.5640 - accuracy: 0.8935 - val_loss: 0.4386 - val_accuracy: 0.9139\n",
            "Epoch 5/10\n",
            "15/15 [==============================] - 0s 7ms/step - loss: 0.4538 - accuracy: 0.9200 - val_loss: 0.3596 - val_accuracy: 0.9417\n",
            "Epoch 6/10\n",
            "15/15 [==============================] - 0s 6ms/step - loss: 0.3784 - accuracy: 0.9318 - val_loss: 0.2825 - val_accuracy: 0.9583\n",
            "Epoch 7/10\n",
            "15/15 [==============================] - 0s 9ms/step - loss: 0.3169 - accuracy: 0.9485 - val_loss: 0.2596 - val_accuracy: 0.9500\n",
            "Epoch 8/10\n",
            "15/15 [==============================] - 0s 8ms/step - loss: 0.2829 - accuracy: 0.9555 - val_loss: 0.2269 - val_accuracy: 0.9528\n",
            "Epoch 9/10\n",
            "15/15 [==============================] - 0s 9ms/step - loss: 0.2449 - accuracy: 0.9610 - val_loss: 0.2103 - val_accuracy: 0.9667\n",
            "Epoch 10/10\n",
            "15/15 [==============================] - 0s 7ms/step - loss: 0.2131 - accuracy: 0.9680 - val_loss: 0.1728 - val_accuracy: 0.9583\n",
            "Epoch 1/10\n",
            "15/15 [==============================] - 3s 42ms/step - loss: 2.2159 - accuracy: 0.2658 - val_loss: 1.6191 - val_accuracy: 0.4917\n",
            "Epoch 2/10\n",
            "15/15 [==============================] - 0s 10ms/step - loss: 1.2741 - accuracy: 0.6235 - val_loss: 1.0000 - val_accuracy: 0.7222\n",
            "Epoch 3/10\n",
            "15/15 [==============================] - 0s 12ms/step - loss: 0.8596 - accuracy: 0.7905 - val_loss: 0.7145 - val_accuracy: 0.8056\n",
            "Epoch 4/10\n",
            "15/15 [==============================] - 0s 13ms/step - loss: 0.6453 - accuracy: 0.8559 - val_loss: 0.5300 - val_accuracy: 0.9083\n",
            "Epoch 5/10\n",
            "15/15 [==============================] - 0s 10ms/step - loss: 0.5139 - accuracy: 0.8956 - val_loss: 0.4010 - val_accuracy: 0.9222\n",
            "Epoch 6/10\n",
            "15/15 [==============================] - 0s 6ms/step - loss: 0.4195 - accuracy: 0.9228 - val_loss: 0.3450 - val_accuracy: 0.9333\n",
            "Epoch 7/10\n",
            "15/15 [==============================] - 0s 7ms/step - loss: 0.3424 - accuracy: 0.9402 - val_loss: 0.2833 - val_accuracy: 0.9556\n",
            "Epoch 8/10\n",
            "15/15 [==============================] - 0s 6ms/step - loss: 0.2967 - accuracy: 0.9492 - val_loss: 0.2490 - val_accuracy: 0.9528\n",
            "Epoch 9/10\n",
            "15/15 [==============================] - 0s 7ms/step - loss: 0.2564 - accuracy: 0.9617 - val_loss: 0.2130 - val_accuracy: 0.9583\n",
            "Epoch 10/10\n",
            "15/15 [==============================] - 0s 8ms/step - loss: 0.2258 - accuracy: 0.9666 - val_loss: 0.1947 - val_accuracy: 0.9611\n",
            "Epoch 1/10\n",
            "15/15 [==============================] - 2s 27ms/step - loss: 2.4739 - accuracy: 0.1691 - val_loss: 1.7990 - val_accuracy: 0.3917\n",
            "Epoch 2/10\n",
            "15/15 [==============================] - 0s 7ms/step - loss: 1.5533 - accuracy: 0.4899 - val_loss: 1.1985 - val_accuracy: 0.6556\n",
            "Epoch 3/10\n",
            "15/15 [==============================] - 0s 8ms/step - loss: 1.0867 - accuracy: 0.6750 - val_loss: 0.9135 - val_accuracy: 0.7861\n",
            "Epoch 4/10\n",
            "15/15 [==============================] - 0s 7ms/step - loss: 0.8334 - accuracy: 0.7878 - val_loss: 0.7100 - val_accuracy: 0.8444\n",
            "Epoch 5/10\n",
            "15/15 [==============================] - 0s 7ms/step - loss: 0.6430 - accuracy: 0.8573 - val_loss: 0.5374 - val_accuracy: 0.8889\n",
            "Epoch 6/10\n",
            "15/15 [==============================] - 0s 6ms/step - loss: 0.5195 - accuracy: 0.8942 - val_loss: 0.4596 - val_accuracy: 0.9000\n",
            "Epoch 7/10\n",
            "15/15 [==============================] - 0s 7ms/step - loss: 0.4242 - accuracy: 0.9200 - val_loss: 0.3986 - val_accuracy: 0.9111\n",
            "Epoch 8/10\n",
            "15/15 [==============================] - 0s 8ms/step - loss: 0.3576 - accuracy: 0.9367 - val_loss: 0.3741 - val_accuracy: 0.9194\n",
            "Epoch 9/10\n",
            "15/15 [==============================] - 0s 8ms/step - loss: 0.3044 - accuracy: 0.9464 - val_loss: 0.2966 - val_accuracy: 0.9333\n",
            "Epoch 10/10\n",
            "15/15 [==============================] - 0s 8ms/step - loss: 0.2681 - accuracy: 0.9520 - val_loss: 0.2617 - val_accuracy: 0.9500\n",
            "Epoch 1/10\n",
            "15/15 [==============================] - 2s 27ms/step - loss: 2.1146 - accuracy: 0.2797 - val_loss: 1.3968 - val_accuracy: 0.5806\n",
            "Epoch 2/10\n",
            "15/15 [==============================] - 0s 7ms/step - loss: 1.2643 - accuracy: 0.6277 - val_loss: 0.8636 - val_accuracy: 0.8056\n",
            "Epoch 3/10\n",
            "15/15 [==============================] - 0s 7ms/step - loss: 0.8773 - accuracy: 0.7891 - val_loss: 0.6173 - val_accuracy: 0.8611\n",
            "Epoch 4/10\n",
            "15/15 [==============================] - 0s 7ms/step - loss: 0.6580 - accuracy: 0.8671 - val_loss: 0.5046 - val_accuracy: 0.9028\n",
            "Epoch 5/10\n",
            "15/15 [==============================] - 0s 7ms/step - loss: 0.5200 - accuracy: 0.9081 - val_loss: 0.3768 - val_accuracy: 0.9389\n",
            "Epoch 6/10\n",
            "15/15 [==============================] - 0s 8ms/step - loss: 0.4223 - accuracy: 0.9346 - val_loss: 0.3252 - val_accuracy: 0.9639\n",
            "Epoch 7/10\n",
            "15/15 [==============================] - 0s 7ms/step - loss: 0.3503 - accuracy: 0.9492 - val_loss: 0.2701 - val_accuracy: 0.9556\n",
            "Epoch 8/10\n",
            "15/15 [==============================] - 0s 7ms/step - loss: 0.2937 - accuracy: 0.9555 - val_loss: 0.2417 - val_accuracy: 0.9694\n",
            "Epoch 9/10\n",
            "15/15 [==============================] - 0s 7ms/step - loss: 0.2593 - accuracy: 0.9624 - val_loss: 0.2065 - val_accuracy: 0.9750\n",
            "Epoch 10/10\n",
            "15/15 [==============================] - 0s 7ms/step - loss: 0.2179 - accuracy: 0.9722 - val_loss: 0.1832 - val_accuracy: 0.9778\n",
            "Epoch 1/10\n",
            "15/15 [==============================] - 3s 31ms/step - loss: 2.2049 - accuracy: 0.2568 - val_loss: 1.5581 - val_accuracy: 0.5000\n",
            "Epoch 2/10\n",
            "15/15 [==============================] - 0s 6ms/step - loss: 1.3251 - accuracy: 0.6214 - val_loss: 0.9750 - val_accuracy: 0.7611\n",
            "Epoch 3/10\n",
            "15/15 [==============================] - 0s 6ms/step - loss: 0.9145 - accuracy: 0.7822 - val_loss: 0.7140 - val_accuracy: 0.8500\n",
            "Epoch 4/10\n",
            "15/15 [==============================] - 0s 7ms/step - loss: 0.6926 - accuracy: 0.8559 - val_loss: 0.5335 - val_accuracy: 0.8833\n",
            "Epoch 5/10\n",
            "15/15 [==============================] - 0s 8ms/step - loss: 0.5534 - accuracy: 0.8914 - val_loss: 0.4287 - val_accuracy: 0.9083\n",
            "Epoch 6/10\n",
            "15/15 [==============================] - 0s 7ms/step - loss: 0.4518 - accuracy: 0.9186 - val_loss: 0.3943 - val_accuracy: 0.9222\n",
            "Epoch 7/10\n",
            "15/15 [==============================] - 0s 8ms/step - loss: 0.3806 - accuracy: 0.9297 - val_loss: 0.3133 - val_accuracy: 0.9333\n",
            "Epoch 8/10\n",
            "15/15 [==============================] - 0s 8ms/step - loss: 0.3346 - accuracy: 0.9429 - val_loss: 0.2811 - val_accuracy: 0.9389\n",
            "Epoch 9/10\n",
            "15/15 [==============================] - 0s 7ms/step - loss: 0.2809 - accuracy: 0.9534 - val_loss: 0.2323 - val_accuracy: 0.9611\n",
            "Epoch 10/10\n",
            "15/15 [==============================] - 0s 7ms/step - loss: 0.2515 - accuracy: 0.9548 - val_loss: 0.2101 - val_accuracy: 0.9583\n",
            "Epoch 1/10\n",
            "15/15 [==============================] - 2s 26ms/step - loss: 2.6180 - accuracy: 0.1496 - val_loss: 1.8337 - val_accuracy: 0.3833\n",
            "Epoch 2/10\n",
            "15/15 [==============================] - 0s 6ms/step - loss: 1.5203 - accuracy: 0.5150 - val_loss: 1.1107 - val_accuracy: 0.7056\n",
            "Epoch 3/10\n",
            "15/15 [==============================] - 0s 7ms/step - loss: 0.9982 - accuracy: 0.7175 - val_loss: 0.7614 - val_accuracy: 0.8333\n",
            "Epoch 4/10\n",
            "15/15 [==============================] - 0s 7ms/step - loss: 0.7346 - accuracy: 0.8351 - val_loss: 0.5719 - val_accuracy: 0.8917\n",
            "Epoch 5/10\n",
            "15/15 [==============================] - 0s 7ms/step - loss: 0.5683 - accuracy: 0.8956 - val_loss: 0.4480 - val_accuracy: 0.9417\n",
            "Epoch 6/10\n",
            "15/15 [==============================] - 0s 6ms/step - loss: 0.4515 - accuracy: 0.9255 - val_loss: 0.3485 - val_accuracy: 0.9611\n",
            "Epoch 7/10\n",
            "15/15 [==============================] - 0s 6ms/step - loss: 0.3740 - accuracy: 0.9436 - val_loss: 0.2879 - val_accuracy: 0.9583\n",
            "Epoch 8/10\n",
            "15/15 [==============================] - 0s 7ms/step - loss: 0.3176 - accuracy: 0.9548 - val_loss: 0.2556 - val_accuracy: 0.9528\n",
            "Epoch 9/10\n",
            "15/15 [==============================] - 0s 6ms/step - loss: 0.2700 - accuracy: 0.9659 - val_loss: 0.2169 - val_accuracy: 0.9667\n",
            "Epoch 10/10\n",
            "15/15 [==============================] - 0s 8ms/step - loss: 0.2356 - accuracy: 0.9708 - val_loss: 0.1970 - val_accuracy: 0.9722\n",
            "Epoch 1/10\n",
            "15/15 [==============================] - 2s 27ms/step - loss: 2.2353 - accuracy: 0.2533 - val_loss: 1.4798 - val_accuracy: 0.5083\n",
            "Epoch 2/10\n",
            "15/15 [==============================] - 0s 6ms/step - loss: 1.2861 - accuracy: 0.6117 - val_loss: 0.8768 - val_accuracy: 0.7917\n",
            "Epoch 3/10\n",
            "15/15 [==============================] - 0s 8ms/step - loss: 0.8707 - accuracy: 0.7759 - val_loss: 0.6238 - val_accuracy: 0.8667\n",
            "Epoch 4/10\n",
            "15/15 [==============================] - 0s 7ms/step - loss: 0.6446 - accuracy: 0.8525 - val_loss: 0.4891 - val_accuracy: 0.9111\n",
            "Epoch 5/10\n",
            "15/15 [==============================] - 0s 7ms/step - loss: 0.5070 - accuracy: 0.9033 - val_loss: 0.3960 - val_accuracy: 0.9250\n",
            "Epoch 6/10\n",
            "15/15 [==============================] - 0s 6ms/step - loss: 0.4113 - accuracy: 0.9283 - val_loss: 0.3320 - val_accuracy: 0.9389\n",
            "Epoch 7/10\n",
            "15/15 [==============================] - 0s 7ms/step - loss: 0.3422 - accuracy: 0.9450 - val_loss: 0.2822 - val_accuracy: 0.9472\n",
            "Epoch 8/10\n",
            "15/15 [==============================] - 0s 6ms/step - loss: 0.2872 - accuracy: 0.9527 - val_loss: 0.2481 - val_accuracy: 0.9528\n",
            "Epoch 9/10\n",
            "15/15 [==============================] - 0s 7ms/step - loss: 0.2516 - accuracy: 0.9638 - val_loss: 0.2165 - val_accuracy: 0.9556\n",
            "Epoch 10/10\n",
            "15/15 [==============================] - 0s 7ms/step - loss: 0.2190 - accuracy: 0.9680 - val_loss: 0.1917 - val_accuracy: 0.9667\n"
          ]
        },
        {
          "output_type": "display_data",
          "data": {
            "text/plain": [
              "<Figure size 432x288 with 1 Axes>"
            ],
            "image/png": "[encoded data removed]"
          },
          "metadata": {
            "needs_background": "light"
          }
        }
      ]
    },
    {
      "cell_type": "markdown",
      "source": [
        "# **Optimizers - Achini**"
      ],
      "metadata": {
        "id": "It8msGtoTKwU"
      }
    },
    {
      "cell_type": "markdown",
      "source": [
        "# **Adagrad**"
      ],
      "metadata": {
        "id": "KZFsxa6ZiPrT"
      }
    },
    {
      "cell_type": "code",
      "source": [
        "# Define the neural network architecture\n",
        "modelReg = Sequential()\n",
        "modelReg.add(Dense(64, activation='relu', input_dim=64, kernel_regularizer=l2(0.07)))\n",
        "modelReg.add(Dense(30, activation='relu'))\n",
        "modelReg.add(Dense(10, activation='sigmoid'))\n",
        "\n",
        "\n",
        "\n",
        "# Compile the model\n",
        "modelReg.compile(Adagrad(lr=.001), loss='categorical_crossentropy', metrics=['accuracy'])\n",
        "\n",
        "\n",
        "\n",
        "# Train the model\n",
        "modelReg.fit(X_train, y_train, epochs=10, batch_size=100, validation_data=(X_test, y_test))\n",
        "\n",
        "# Evaluate the model\n",
        "y_pred = modelReg.predict(X_test)\n",
        "y_pred_classes = np.argmax(y_pred, axis=1)\n",
        "y_test_classes = np.argmax(y_test, axis=1)\n",
        "\n",
        "# Compute confusion matrix\n",
        "confusion = confusion_matrix(y_test_classes, y_pred_classes)\n",
        "\n",
        "# Compute accuracy, specificity, sensitivity, PPVs, and NPVs\n",
        "total = np.sum(confusion)\n",
        "accuracy = np.trace(confusion) / float(total)\n",
        "specificity = np.diag(confusion)[0] / np.sum(confusion[0])\n",
        "sensitivity = np.diag(confusion)[1] / np.sum(confusion[1])\n",
        "ppv = np.diag(confusion)[1] / np.sum(confusion[:, 1])\n",
        "npv = np.diag(confusion)[0] / np.sum(confusion[:, 0])\n",
        "\n",
        "# Print the results\n",
        "print(\"Accuracy:\", accuracy)\n",
        "print(\"Specificity:\", specificity)\n",
        "print(\"Sensitivity:\", sensitivity)\n",
        "print(\"PPV:\", ppv)\n",
        "print(\"NPV:\", npv)"
      ],
      "metadata": {
        "id": "80ITvm8rTXUS",
        "colab": {
          "base_uri": "https://localhost:8080/"
        },
        "outputId": "81850487-5829-4733-8297-6731c8326cbd"
      },
      "execution_count": null,
      "outputs": [
        {
          "output_type": "stream",
          "name": "stdout",
          "text": [
            "Epoch 1/10\n"
          ]
        },
        {
          "output_type": "stream",
          "name": "stderr",
          "text": [
            "/usr/local/lib/python3.8/dist-packages/keras/optimizers/optimizer_v2/adagrad.py:84: UserWarning: The `lr` argument is deprecated, use `learning_rate` instead.\n",
            "  super().__init__(name, **kwargs)\n"
          ]
        },
        {
          "output_type": "stream",
          "name": "stdout",
          "text": [
            "15/15 [==============================] - 1s 21ms/step - loss: 10.2417 - accuracy: 0.1037 - val_loss: 8.7073 - val_accuracy: 0.0833\n",
            "Epoch 2/10\n",
            "15/15 [==============================] - 0s 6ms/step - loss: 8.2837 - accuracy: 0.1183 - val_loss: 7.7344 - val_accuracy: 0.1472\n",
            "Epoch 3/10\n",
            "15/15 [==============================] - 0s 7ms/step - loss: 7.6024 - accuracy: 0.1573 - val_loss: 7.2362 - val_accuracy: 0.1778\n",
            "Epoch 4/10\n",
            "15/15 [==============================] - 0s 6ms/step - loss: 7.2269 - accuracy: 0.1872 - val_loss: 6.9247 - val_accuracy: 0.2056\n",
            "Epoch 5/10\n",
            "15/15 [==============================] - 0s 6ms/step - loss: 6.9728 - accuracy: 0.2192 - val_loss: 6.7006 - val_accuracy: 0.2500\n",
            "Epoch 6/10\n",
            "15/15 [==============================] - 0s 8ms/step - loss: 6.7764 - accuracy: 0.2470 - val_loss: 6.5257 - val_accuracy: 0.2833\n",
            "Epoch 7/10\n",
            "15/15 [==============================] - 0s 6ms/step - loss: 6.6142 - accuracy: 0.2756 - val_loss: 6.3792 - val_accuracy: 0.3111\n",
            "Epoch 8/10\n",
            "15/15 [==============================] - 0s 6ms/step - loss: 6.4751 - accuracy: 0.3118 - val_loss: 6.2553 - val_accuracy: 0.3556\n",
            "Epoch 9/10\n",
            "15/15 [==============================] - 0s 6ms/step - loss: 6.3544 - accuracy: 0.3333 - val_loss: 6.1463 - val_accuracy: 0.3694\n",
            "Epoch 10/10\n",
            "15/15 [==============================] - 0s 6ms/step - loss: 6.2455 - accuracy: 0.3563 - val_loss: 6.0467 - val_accuracy: 0.3917\n",
            "12/12 [==============================] - 0s 2ms/step\n",
            "Accuracy: 0.39166666666666666\n",
            "Specificity: 0.8958333333333334\n",
            "Sensitivity: 0.15384615384615385\n",
            "PPV: 0.23076923076923078\n",
            "NPV: 0.8431372549019608\n"
          ]
        }
      ]
    },
    {
      "cell_type": "markdown",
      "source": [
        "# **Adam**"
      ],
      "metadata": {
        "id": "60xwuJhMicys"
      }
    },
    {
      "cell_type": "code",
      "source": [
        "# Define the neural network architecture\n",
        "modelReg = Sequential()\n",
        "modelReg.add(Dense(64, activation='relu', input_dim=64, kernel_regularizer=l2(0.07)))\n",
        "modelReg.add(Dense(30, activation='relu'))\n",
        "modelReg.add(Dense(10, activation='sigmoid'))\n",
        "\n",
        "\n",
        "\n",
        "# Compile the model\n",
        "modelReg.compile(Adam(lr=.001), loss='categorical_crossentropy', metrics=['accuracy'])\n",
        "\n",
        "\n",
        "\n",
        "# Train the model\n",
        "modelReg.fit(X_train, y_train, epochs=10, batch_size=100, validation_data=(X_test, y_test))\n",
        "\n",
        "# Evaluate the model\n",
        "y_pred = modelReg.predict(X_test)\n",
        "y_pred_classes = np.argmax(y_pred, axis=1)\n",
        "y_test_classes = np.argmax(y_test, axis=1)\n",
        "\n",
        "# Compute confusion matrix\n",
        "confusion = confusion_matrix(y_test_classes, y_pred_classes)\n",
        "\n",
        "# Compute accuracy, specificity, sensitivity, PPVs, and NPVs\n",
        "total = np.sum(confusion)\n",
        "accuracy = np.trace(confusion) / float(total)\n",
        "specificity = np.diag(confusion)[0] / np.sum(confusion[0])\n",
        "sensitivity = np.diag(confusion)[1] / np.sum(confusion[1])\n",
        "ppv = np.diag(confusion)[1] / np.sum(confusion[:, 1])\n",
        "npv = np.diag(confusion)[0] / np.sum(confusion[:, 0])\n",
        "\n",
        "# Print the results\n",
        "print(\"Accuracy:\", accuracy)\n",
        "print(\"Specificity:\", specificity)\n",
        "print(\"Sensitivity:\", sensitivity)\n",
        "print(\"PPV:\", ppv)\n",
        "print(\"NPV:\", npv)"
      ],
      "metadata": {
        "id": "1_HrI3NkTIyL",
        "colab": {
          "base_uri": "https://localhost:8080/"
        },
        "outputId": "fad8a131-6bb2-471e-c783-28c582c9291b"
      },
      "execution_count": null,
      "outputs": [
        {
          "output_type": "stream",
          "name": "stdout",
          "text": [
            "Epoch 1/10\n"
          ]
        },
        {
          "output_type": "stream",
          "name": "stderr",
          "text": [
            "/usr/local/lib/python3.8/dist-packages/keras/optimizers/optimizer_v2/adam.py:117: UserWarning: The `lr` argument is deprecated, use `learning_rate` instead.\n",
            "  super().__init__(name, **kwargs)\n"
          ]
        },
        {
          "output_type": "stream",
          "name": "stdout",
          "text": [
            "15/15 [==============================] - 1s 23ms/step - loss: 7.9496 - accuracy: 0.1594 - val_loss: 6.0058 - val_accuracy: 0.3583\n",
            "Epoch 2/10\n",
            "15/15 [==============================] - 0s 7ms/step - loss: 5.5699 - accuracy: 0.4322 - val_loss: 4.7975 - val_accuracy: 0.6056\n",
            "Epoch 3/10\n",
            "15/15 [==============================] - 0s 6ms/step - loss: 4.5037 - accuracy: 0.6514 - val_loss: 3.9508 - val_accuracy: 0.7583\n",
            "Epoch 4/10\n",
            "15/15 [==============================] - 0s 8ms/step - loss: 3.7326 - accuracy: 0.7926 - val_loss: 3.3202 - val_accuracy: 0.8583\n",
            "Epoch 5/10\n",
            "15/15 [==============================] - 0s 6ms/step - loss: 3.1907 - accuracy: 0.8768 - val_loss: 2.8788 - val_accuracy: 0.8944\n",
            "Epoch 6/10\n",
            "15/15 [==============================] - 0s 6ms/step - loss: 2.7919 - accuracy: 0.8921 - val_loss: 2.5292 - val_accuracy: 0.9361\n",
            "Epoch 7/10\n",
            "15/15 [==============================] - 0s 7ms/step - loss: 2.4719 - accuracy: 0.9186 - val_loss: 2.2565 - val_accuracy: 0.9528\n",
            "Epoch 8/10\n",
            "15/15 [==============================] - 0s 6ms/step - loss: 2.2054 - accuracy: 0.9360 - val_loss: 2.0319 - val_accuracy: 0.9500\n",
            "Epoch 9/10\n",
            "15/15 [==============================] - 0s 6ms/step - loss: 1.9742 - accuracy: 0.9422 - val_loss: 1.8230 - val_accuracy: 0.9500\n",
            "Epoch 10/10\n",
            "15/15 [==============================] - 0s 6ms/step - loss: 1.7751 - accuracy: 0.9534 - val_loss: 1.6526 - val_accuracy: 0.9500\n",
            "12/12 [==============================] - 0s 2ms/step\n",
            "Accuracy: 0.95\n",
            "Specificity: 1.0\n",
            "Sensitivity: 0.9487179487179487\n",
            "PPV: 0.9024390243902439\n",
            "NPV: 0.9795918367346939\n"
          ]
        }
      ]
    },
    {
      "cell_type": "markdown",
      "source": [
        "# **Nadam**"
      ],
      "metadata": {
        "id": "7qzJzOjPidRk"
      }
    },
    {
      "cell_type": "code",
      "source": [
        "# Define the neural network architecture\n",
        "modelReg = Sequential()\n",
        "modelReg.add(Dense(64, activation='relu', input_dim=64, kernel_regularizer=l2(0.07)))\n",
        "modelReg.add(Dense(30, activation='relu'))\n",
        "modelReg.add(Dense(10, activation='sigmoid'))\n",
        "\n",
        "\n",
        "\n",
        "# Compile the model\n",
        "modelReg.compile(Nadam(lr=.001), loss='categorical_crossentropy', metrics=['accuracy'])\n",
        "\n",
        "\n",
        "\n",
        "# Train the model\n",
        "modelReg.fit(X_train, y_train, epochs=10, batch_size=100, validation_data=(X_test, y_test))\n",
        "\n",
        "# Evaluate the model\n",
        "y_pred = modelReg.predict(X_test)\n",
        "y_pred_classes = np.argmax(y_pred, axis=1)\n",
        "y_test_classes = np.argmax(y_test, axis=1)\n",
        "\n",
        "# Compute confusion matrix\n",
        "confusion = confusion_matrix(y_test_classes, y_pred_classes)\n",
        "\n",
        "# Compute accuracy, specificity, sensitivity, PPVs, and NPVs\n",
        "total = np.sum(confusion)\n",
        "accuracy = np.trace(confusion) / float(total)\n",
        "specificity = np.diag(confusion)[0] / np.sum(confusion[0])\n",
        "sensitivity = np.diag(confusion)[1] / np.sum(confusion[1])\n",
        "ppv = np.diag(confusion)[1] / np.sum(confusion[:, 1])\n",
        "npv = np.diag(confusion)[0] / np.sum(confusion[:, 0])\n",
        "\n",
        "# Print the results\n",
        "print(\"Accuracy:\", accuracy)\n",
        "print(\"Specificity:\", specificity)\n",
        "print(\"Sensitivity:\", sensitivity)\n",
        "print(\"PPV:\", ppv)\n",
        "print(\"NPV:\", npv)"
      ],
      "metadata": {
        "id": "-wlCqzUzTUKb",
        "colab": {
          "base_uri": "https://localhost:8080/"
        },
        "outputId": "67734787-5efe-431b-82cd-ebab559de58c"
      },
      "execution_count": null,
      "outputs": [
        {
          "output_type": "stream",
          "name": "stdout",
          "text": [
            "Epoch 1/10\n"
          ]
        },
        {
          "output_type": "stream",
          "name": "stderr",
          "text": [
            "/usr/local/lib/python3.8/dist-packages/keras/optimizers/optimizer_v2/nadam.py:89: UserWarning: The `lr` argument is deprecated, use `learning_rate` instead.\n",
            "  super().__init__(name, **kwargs)\n"
          ]
        },
        {
          "output_type": "stream",
          "name": "stdout",
          "text": [
            "15/15 [==============================] - 1s 21ms/step - loss: 8.4141 - accuracy: 0.1496 - val_loss: 6.3711 - val_accuracy: 0.3750\n",
            "Epoch 2/10\n",
            "15/15 [==============================] - 0s 7ms/step - loss: 5.7185 - accuracy: 0.4572 - val_loss: 5.0088 - val_accuracy: 0.6028\n",
            "Epoch 3/10\n",
            "15/15 [==============================] - 0s 7ms/step - loss: 4.5803 - accuracy: 0.6785 - val_loss: 4.1606 - val_accuracy: 0.7500\n",
            "Epoch 4/10\n",
            "15/15 [==============================] - 0s 6ms/step - loss: 3.8982 - accuracy: 0.8086 - val_loss: 3.6346 - val_accuracy: 0.8472\n",
            "Epoch 5/10\n",
            "15/15 [==============================] - 0s 6ms/step - loss: 3.4261 - accuracy: 0.8664 - val_loss: 3.2170 - val_accuracy: 0.8917\n",
            "Epoch 6/10\n",
            "15/15 [==============================] - 0s 7ms/step - loss: 3.0609 - accuracy: 0.9061 - val_loss: 2.8967 - val_accuracy: 0.9194\n",
            "Epoch 7/10\n",
            "15/15 [==============================] - 0s 6ms/step - loss: 2.7538 - accuracy: 0.9255 - val_loss: 2.6152 - val_accuracy: 0.9306\n",
            "Epoch 8/10\n",
            "15/15 [==============================] - 0s 7ms/step - loss: 2.4898 - accuracy: 0.9408 - val_loss: 2.3744 - val_accuracy: 0.9417\n",
            "Epoch 9/10\n",
            "15/15 [==============================] - 0s 5ms/step - loss: 2.2606 - accuracy: 0.9541 - val_loss: 2.1803 - val_accuracy: 0.9333\n",
            "Epoch 10/10\n",
            "15/15 [==============================] - 0s 6ms/step - loss: 2.0645 - accuracy: 0.9624 - val_loss: 1.9865 - val_accuracy: 0.9528\n",
            "12/12 [==============================] - 0s 2ms/step\n",
            "Accuracy: 0.9527777777777777\n",
            "Specificity: 0.9791666666666666\n",
            "Sensitivity: 0.9487179487179487\n",
            "PPV: 0.925\n",
            "NPV: 1.0\n"
          ]
        }
      ]
    },
    {
      "cell_type": "markdown",
      "source": [
        "# **RMSProp**"
      ],
      "metadata": {
        "id": "50GqmbAGidnM"
      }
    },
    {
      "cell_type": "code",
      "source": [
        "# Define the neural network architecture\n",
        "modelReg = Sequential()\n",
        "modelReg.add(Dense(64, activation='relu', input_dim=64, kernel_regularizer=l2(0.07)))\n",
        "modelReg.add(Dense(30, activation='relu'))\n",
        "modelReg.add(Dense(10, activation='sigmoid'))\n",
        "\n",
        "\n",
        "\n",
        "# Compile the model\n",
        "modelReg.compile(RMSprop(lr=.001), loss='categorical_crossentropy', metrics=['accuracy'])\n",
        "\n",
        "\n",
        "\n",
        "# Train the model\n",
        "modelReg.fit(X_train, y_train, epochs=10, batch_size=100, validation_data=(X_test, y_test))\n",
        "\n",
        "# Evaluate the model\n",
        "y_pred = modelReg.predict(X_test)\n",
        "y_pred_classes = np.argmax(y_pred, axis=1)\n",
        "y_test_classes = np.argmax(y_test, axis=1)\n",
        "\n",
        "# Compute confusion matrix\n",
        "confusion = confusion_matrix(y_test_classes, y_pred_classes)\n",
        "\n",
        "# Compute accuracy, specificity, sensitivity, PPVs, and NPVs\n",
        "total = np.sum(confusion)\n",
        "accuracy = np.trace(confusion) / float(total)\n",
        "specificity = np.diag(confusion)[0] / np.sum(confusion[0])\n",
        "sensitivity = np.diag(confusion)[1] / np.sum(confusion[1])\n",
        "ppv = np.diag(confusion)[1] / np.sum(confusion[:, 1])\n",
        "npv = np.diag(confusion)[0] / np.sum(confusion[:, 0])\n",
        "\n",
        "# Print the results\n",
        "print(\"Accuracy:\", accuracy)\n",
        "print(\"Specificity:\", specificity)\n",
        "print(\"Sensitivity:\", sensitivity)\n",
        "print(\"PPV:\", ppv)\n",
        "print(\"NPV:\", npv)"
      ],
      "metadata": {
        "id": "45x6krTkTcfL",
        "colab": {
          "base_uri": "https://localhost:8080/"
        },
        "outputId": "eae26421-8381-49fb-9a77-af2e4c659624"
      },
      "execution_count": null,
      "outputs": [
        {
          "output_type": "stream",
          "name": "stdout",
          "text": [
            "Epoch 1/10\n"
          ]
        },
        {
          "output_type": "stream",
          "name": "stderr",
          "text": [
            "/usr/local/lib/python3.8/dist-packages/keras/optimizers/optimizer_v2/rmsprop.py:143: UserWarning: The `lr` argument is deprecated, use `learning_rate` instead.\n",
            "  super().__init__(name, **kwargs)\n"
          ]
        },
        {
          "output_type": "stream",
          "name": "stdout",
          "text": [
            "15/15 [==============================] - 1s 23ms/step - loss: 8.0662 - accuracy: 0.2178 - val_loss: 5.8384 - val_accuracy: 0.3611\n",
            "Epoch 2/10\n",
            "15/15 [==============================] - 0s 6ms/step - loss: 5.1262 - accuracy: 0.5136 - val_loss: 4.5014 - val_accuracy: 0.6583\n",
            "Epoch 3/10\n",
            "15/15 [==============================] - 0s 5ms/step - loss: 4.0934 - accuracy: 0.7411 - val_loss: 3.7056 - val_accuracy: 0.8028\n",
            "Epoch 4/10\n",
            "15/15 [==============================] - 0s 7ms/step - loss: 3.4364 - accuracy: 0.8379 - val_loss: 3.1004 - val_accuracy: 0.8722\n",
            "Epoch 5/10\n",
            "15/15 [==============================] - 0s 7ms/step - loss: 2.9416 - accuracy: 0.8866 - val_loss: 2.6899 - val_accuracy: 0.9028\n",
            "Epoch 6/10\n",
            "15/15 [==============================] - 0s 5ms/step - loss: 2.5496 - accuracy: 0.9214 - val_loss: 2.3545 - val_accuracy: 0.9222\n",
            "Epoch 7/10\n",
            "15/15 [==============================] - 0s 7ms/step - loss: 2.2136 - accuracy: 0.9367 - val_loss: 2.0213 - val_accuracy: 0.9472\n",
            "Epoch 8/10\n",
            "15/15 [==============================] - 0s 5ms/step - loss: 1.9141 - accuracy: 0.9513 - val_loss: 1.7744 - val_accuracy: 0.9528\n",
            "Epoch 9/10\n",
            "15/15 [==============================] - 0s 5ms/step - loss: 1.6719 - accuracy: 0.9589 - val_loss: 1.5530 - val_accuracy: 0.9528\n",
            "Epoch 10/10\n",
            "15/15 [==============================] - 0s 7ms/step - loss: 1.4650 - accuracy: 0.9576 - val_loss: 1.4119 - val_accuracy: 0.9361\n",
            "12/12 [==============================] - 0s 2ms/step\n",
            "Accuracy: 0.9361111111111111\n",
            "Specificity: 0.9583333333333334\n",
            "Sensitivity: 0.9487179487179487\n",
            "PPV: 0.8222222222222222\n",
            "NPV: 1.0\n"
          ]
        }
      ]
    },
    {
      "cell_type": "markdown",
      "source": [
        "# **SDG**"
      ],
      "metadata": {
        "id": "gWpnh8iZilLd"
      }
    },
    {
      "cell_type": "code",
      "source": [
        "# Define the neural network architecture\n",
        "modelReg = Sequential()\n",
        "modelReg.add(Dense(64, activation='relu', input_dim=64, kernel_regularizer=l2(0.07)))\n",
        "modelReg.add(Dense(30, activation='relu'))\n",
        "modelReg.add(Dense(10, activation='sigmoid'))\n",
        "\n",
        "\n",
        "\n",
        "# Compile the model\n",
        "modelReg.compile(SGD(lr=.001), loss='categorical_crossentropy', metrics=['accuracy'])\n",
        "\n",
        "\n",
        "\n",
        "# Train the model\n",
        "modelReg.fit(X_train, y_train, epochs=10, batch_size=100, validation_data=(X_test, y_test))\n",
        "\n",
        "# Evaluate the model\n",
        "y_pred = modelReg.predict(X_test)\n",
        "y_pred_classes = np.argmax(y_pred, axis=1)\n",
        "y_test_classes = np.argmax(y_test, axis=1)\n",
        "\n",
        "# Compute confusion matrix\n",
        "confusion = confusion_matrix(y_test_classes, y_pred_classes)\n",
        "\n",
        "# Compute accuracy, specificity, sensitivity, PPVs, and NPVs\n",
        "total = np.sum(confusion)\n",
        "accuracy = np.trace(confusion) / float(total)\n",
        "specificity = np.diag(confusion)[0] / np.sum(confusion[0])\n",
        "sensitivity = np.diag(confusion)[1] / np.sum(confusion[1])\n",
        "ppv = np.diag(confusion)[1] / np.sum(confusion[:, 1])\n",
        "npv = np.diag(confusion)[0] / np.sum(confusion[:, 0])\n",
        "\n",
        "# Print the results\n",
        "print(\"Accuracy:\", accuracy)\n",
        "print(\"Specificity:\", specificity)\n",
        "print(\"Sensitivity:\", sensitivity)\n",
        "print(\"PPV:\", ppv)\n",
        "print(\"NPV:\", npv)"
      ],
      "metadata": {
        "id": "jyOb_CSlTjKT",
        "colab": {
          "base_uri": "https://localhost:8080/"
        },
        "outputId": "dea9ce9f-02ea-438a-f9df-1c913f1ec17e"
      },
      "execution_count": null,
      "outputs": [
        {
          "output_type": "stream",
          "name": "stdout",
          "text": [
            "Epoch 1/10\n"
          ]
        },
        {
          "output_type": "stream",
          "name": "stderr",
          "text": [
            "/usr/local/lib/python3.8/dist-packages/keras/optimizers/optimizer_v2/gradient_descent.py:114: UserWarning: The `lr` argument is deprecated, use `learning_rate` instead.\n",
            "  super().__init__(name, **kwargs)\n"
          ]
        },
        {
          "output_type": "stream",
          "name": "stdout",
          "text": [
            "15/15 [==============================] - 1s 37ms/step - loss: 10.6638 - accuracy: 0.0557 - val_loss: 8.4043 - val_accuracy: 0.0694\n",
            "Epoch 2/10\n",
            "15/15 [==============================] - 0s 8ms/step - loss: 8.0615 - accuracy: 0.1100 - val_loss: 7.3764 - val_accuracy: 0.1361\n",
            "Epoch 3/10\n",
            "15/15 [==============================] - 0s 8ms/step - loss: 7.2245 - accuracy: 0.1705 - val_loss: 6.7980 - val_accuracy: 0.1944\n",
            "Epoch 4/10\n",
            "15/15 [==============================] - 0s 9ms/step - loss: 6.7462 - accuracy: 0.2401 - val_loss: 6.4412 - val_accuracy: 0.2583\n",
            "Epoch 5/10\n",
            "15/15 [==============================] - 0s 11ms/step - loss: 6.4413 - accuracy: 0.3104 - val_loss: 6.1871 - val_accuracy: 0.3361\n",
            "Epoch 6/10\n",
            "15/15 [==============================] - 0s 7ms/step - loss: 6.2106 - accuracy: 0.3695 - val_loss: 5.9850 - val_accuracy: 0.3917\n",
            "Epoch 7/10\n",
            "15/15 [==============================] - 0s 8ms/step - loss: 6.0244 - accuracy: 0.4196 - val_loss: 5.8151 - val_accuracy: 0.4833\n",
            "Epoch 8/10\n",
            "15/15 [==============================] - 0s 9ms/step - loss: 5.8722 - accuracy: 0.4600 - val_loss: 5.6714 - val_accuracy: 0.5056\n",
            "Epoch 9/10\n",
            "15/15 [==============================] - 0s 9ms/step - loss: 5.7424 - accuracy: 0.5052 - val_loss: 5.5450 - val_accuracy: 0.5500\n",
            "Epoch 10/10\n",
            "15/15 [==============================] - 0s 8ms/step - loss: 5.6252 - accuracy: 0.5435 - val_loss: 5.4409 - val_accuracy: 0.6139\n",
            "12/12 [==============================] - 0s 3ms/step\n",
            "Accuracy: 0.6138888888888889\n",
            "Specificity: 0.7708333333333334\n",
            "Sensitivity: 0.5128205128205128\n",
            "PPV: 0.5882352941176471\n",
            "NPV: 0.7872340425531915\n"
          ]
        }
      ]
    },
    {
      "cell_type": "markdown",
      "source": [
        "**Optimizer Graph**"
      ],
      "metadata": {
        "id": "jdUCMQ16Tmrq"
      }
    },
    {
      "cell_type": "code",
      "source": [
        "# Define the neural network architecture\n",
        "\n",
        "model = Sequential()\n",
        "model.add(Dense(64, activation='relu', input_dim=64))\n",
        "model.add(Dense(30, activation='relu'))\n",
        "model.add(Dense(10, activation='sigmoid'))\n",
        "\n",
        "# Train the neural network with different optimizers\n",
        "batch_size = 100\n",
        "epochs = 10\n",
        "\n",
        "model.compile(SGD(lr=.001), loss='categorical_crossentropy', metrics=['accuracy'])\n",
        "history_sgd = model.fit(X_train, y_train, batch_size=batch_size, epochs=epochs, validation_data=(X_test, y_test))\n",
        "\n",
        "\n",
        "model.compile(Adam(lr=.001), loss='categorical_crossentropy', metrics=['accuracy'])\n",
        "history_adam = model.fit(X_train, y_train, batch_size=batch_size, epochs=epochs, validation_data=(X_test, y_test))\n",
        "\n",
        "model.compile(Nadam(lr=.001), loss='categorical_crossentropy', metrics=['accuracy'])\n",
        "history_nadam = model.fit(X_train, y_train, batch_size=batch_size, epochs=epochs, validation_data=(X_test, y_test))\n",
        "\n",
        "model.compile(Adagrad(lr=.001), loss='categorical_crossentropy', metrics=['accuracy'])\n",
        "history_adagrad = model.fit(X_train, y_train, batch_size=batch_size, epochs=epochs, validation_data=(X_test, y_test))\n",
        "\n",
        "model.compile(RMSprop(lr=.001), loss='categorical_crossentropy', metrics=['accuracy'])\n",
        "history_rmsprop = model.fit(X_train, y_train, batch_size=batch_size, epochs=epochs, validation_data=(X_test, y_test))\n",
        "\n",
        "# Plot the accuracy for each optimizer\n",
        "plt.plot(history_sgd.history['val_accuracy'], label='SGD')\n",
        "plt.plot(history_adam.history['val_accuracy'], label='Adam')\n",
        "plt.plot(history_nadam.history['val_accuracy'], label='Nadam')\n",
        "plt.plot(history_adagrad.history['val_accuracy'], label='Adagrad')\n",
        "plt.plot(history_rmsprop.history['val_accuracy'], label='RMSprop')\n",
        "plt.title('Accuracy vs. Optimizer')\n",
        "plt.ylabel('Accuracy')\n",
        "plt.xlabel('Epoch')\n",
        "plt.legend(loc='best')\n",
        "plt.show()\n",
        "\n",
        "\n"
      ],
      "metadata": {
        "id": "Q_3YB9fjTlvq",
        "colab": {
          "base_uri": "https://localhost:8080/",
          "height": 1000
        },
        "outputId": "ba7f6c32-30d6-4687-bef4-01b376915bd2"
      },
      "execution_count": null,
      "outputs": [
        {
          "output_type": "stream",
          "name": "stdout",
          "text": [
            "Epoch 1/10\n",
            "15/15 [==============================] - 1s 26ms/step - loss: 5.1082 - accuracy: 0.1023 - val_loss: 3.9156 - val_accuracy: 0.1611\n",
            "Epoch 2/10\n",
            "15/15 [==============================] - 0s 5ms/step - loss: 3.2463 - accuracy: 0.1955 - val_loss: 2.9990 - val_accuracy: 0.2639\n",
            "Epoch 3/10\n",
            "15/15 [==============================] - 0s 6ms/step - loss: 2.6307 - accuracy: 0.2763 - val_loss: 2.5472 - val_accuracy: 0.3417\n",
            "Epoch 4/10\n",
            "15/15 [==============================] - 0s 6ms/step - loss: 2.2839 - accuracy: 0.3438 - val_loss: 2.2529 - val_accuracy: 0.3750\n",
            "Epoch 5/10\n",
            "15/15 [==============================] - 0s 6ms/step - loss: 2.0376 - accuracy: 0.4008 - val_loss: 2.0257 - val_accuracy: 0.4194\n",
            "Epoch 6/10\n",
            "15/15 [==============================] - 0s 6ms/step - loss: 1.8476 - accuracy: 0.4356 - val_loss: 1.8274 - val_accuracy: 0.4528\n",
            "Epoch 7/10\n",
            "15/15 [==============================] - 0s 6ms/step - loss: 1.6820 - accuracy: 0.4683 - val_loss: 1.6678 - val_accuracy: 0.4917\n",
            "Epoch 8/10\n",
            "15/15 [==============================] - 0s 9ms/step - loss: 1.5458 - accuracy: 0.5031 - val_loss: 1.5294 - val_accuracy: 0.5222\n",
            "Epoch 9/10\n",
            "15/15 [==============================] - 0s 6ms/step - loss: 1.4286 - accuracy: 0.5338 - val_loss: 1.4071 - val_accuracy: 0.5528\n",
            "Epoch 10/10\n",
            "15/15 [==============================] - 0s 5ms/step - loss: 1.3265 - accuracy: 0.5602 - val_loss: 1.2941 - val_accuracy: 0.5972\n",
            "Epoch 1/10\n",
            "15/15 [==============================] - 1s 24ms/step - loss: 0.9884 - accuracy: 0.7035 - val_loss: 0.6857 - val_accuracy: 0.8111\n",
            "Epoch 2/10\n",
            "15/15 [==============================] - 0s 6ms/step - loss: 0.5665 - accuracy: 0.8309 - val_loss: 0.4423 - val_accuracy: 0.8639\n",
            "Epoch 3/10\n",
            "15/15 [==============================] - 0s 6ms/step - loss: 0.3726 - accuracy: 0.8907 - val_loss: 0.3472 - val_accuracy: 0.8944\n",
            "Epoch 4/10\n",
            "15/15 [==============================] - 0s 7ms/step - loss: 0.2736 - accuracy: 0.9221 - val_loss: 0.2763 - val_accuracy: 0.9056\n",
            "Epoch 5/10\n",
            "15/15 [==============================] - 0s 5ms/step - loss: 0.2153 - accuracy: 0.9374 - val_loss: 0.2350 - val_accuracy: 0.9333\n",
            "Epoch 6/10\n",
            "15/15 [==============================] - 0s 6ms/step - loss: 0.1735 - accuracy: 0.9485 - val_loss: 0.2221 - val_accuracy: 0.9417\n",
            "Epoch 7/10\n",
            "15/15 [==============================] - 0s 8ms/step - loss: 0.1465 - accuracy: 0.9596 - val_loss: 0.1661 - val_accuracy: 0.9500\n",
            "Epoch 8/10\n",
            "15/15 [==============================] - 0s 6ms/step - loss: 0.1217 - accuracy: 0.9666 - val_loss: 0.1563 - val_accuracy: 0.9611\n",
            "Epoch 9/10\n",
            "15/15 [==============================] - 0s 7ms/step - loss: 0.1014 - accuracy: 0.9694 - val_loss: 0.1558 - val_accuracy: 0.9556\n",
            "Epoch 10/10\n",
            "15/15 [==============================] - 0s 7ms/step - loss: 0.0846 - accuracy: 0.9798 - val_loss: 0.1280 - val_accuracy: 0.9611\n",
            "Epoch 1/10\n",
            "15/15 [==============================] - 1s 22ms/step - loss: 0.0775 - accuracy: 0.9791 - val_loss: 0.1307 - val_accuracy: 0.9500\n",
            "Epoch 2/10\n",
            "15/15 [==============================] - 0s 8ms/step - loss: 0.0664 - accuracy: 0.9875 - val_loss: 0.1228 - val_accuracy: 0.9611\n",
            "Epoch 3/10\n",
            "15/15 [==============================] - 0s 7ms/step - loss: 0.0523 - accuracy: 0.9882 - val_loss: 0.0925 - val_accuracy: 0.9722\n",
            "Epoch 4/10\n",
            "15/15 [==============================] - 0s 6ms/step - loss: 0.0434 - accuracy: 0.9910 - val_loss: 0.0933 - val_accuracy: 0.9639\n",
            "Epoch 5/10\n",
            "15/15 [==============================] - 0s 6ms/step - loss: 0.0358 - accuracy: 0.9944 - val_loss: 0.1332 - val_accuracy: 0.9472\n",
            "Epoch 6/10\n",
            "15/15 [==============================] - 0s 6ms/step - loss: 0.0308 - accuracy: 0.9951 - val_loss: 0.0968 - val_accuracy: 0.9694\n",
            "Epoch 7/10\n",
            "15/15 [==============================] - 0s 6ms/step - loss: 0.0256 - accuracy: 0.9965 - val_loss: 0.0794 - val_accuracy: 0.9722\n",
            "Epoch 8/10\n",
            "15/15 [==============================] - 0s 6ms/step - loss: 0.0217 - accuracy: 0.9965 - val_loss: 0.0859 - val_accuracy: 0.9778\n",
            "Epoch 9/10\n",
            "15/15 [==============================] - 0s 7ms/step - loss: 0.0185 - accuracy: 0.9972 - val_loss: 0.0923 - val_accuracy: 0.9694\n",
            "Epoch 10/10\n",
            "15/15 [==============================] - 0s 5ms/step - loss: 0.0179 - accuracy: 0.9979 - val_loss: 0.0721 - val_accuracy: 0.9833\n",
            "Epoch 1/10\n",
            "15/15 [==============================] - 1s 22ms/step - loss: 0.0136 - accuracy: 0.9986 - val_loss: 0.0757 - val_accuracy: 0.9778\n",
            "Epoch 2/10\n",
            "15/15 [==============================] - 0s 6ms/step - loss: 0.0125 - accuracy: 0.9993 - val_loss: 0.0766 - val_accuracy: 0.9778\n",
            "Epoch 3/10\n",
            "15/15 [==============================] - 0s 6ms/step - loss: 0.0123 - accuracy: 0.9993 - val_loss: 0.0760 - val_accuracy: 0.9778\n",
            "Epoch 4/10\n",
            "15/15 [==============================] - 0s 8ms/step - loss: 0.0121 - accuracy: 0.9993 - val_loss: 0.0765 - val_accuracy: 0.9750\n",
            "Epoch 5/10\n",
            "15/15 [==============================] - 0s 5ms/step - loss: 0.0121 - accuracy: 0.9993 - val_loss: 0.0769 - val_accuracy: 0.9750\n",
            "Epoch 6/10\n",
            "15/15 [==============================] - 0s 6ms/step - loss: 0.0119 - accuracy: 1.0000 - val_loss: 0.0754 - val_accuracy: 0.9778\n",
            "Epoch 7/10\n",
            "15/15 [==============================] - 0s 8ms/step - loss: 0.0119 - accuracy: 0.9993 - val_loss: 0.0760 - val_accuracy: 0.9750\n",
            "Epoch 8/10\n",
            "15/15 [==============================] - 0s 10ms/step - loss: 0.0118 - accuracy: 0.9993 - val_loss: 0.0768 - val_accuracy: 0.9750\n",
            "Epoch 9/10\n",
            "15/15 [==============================] - 0s 8ms/step - loss: 0.0118 - accuracy: 0.9993 - val_loss: 0.0762 - val_accuracy: 0.9750\n",
            "Epoch 10/10\n",
            "15/15 [==============================] - 0s 8ms/step - loss: 0.0117 - accuracy: 0.9993 - val_loss: 0.0756 - val_accuracy: 0.9750\n",
            "Epoch 1/10\n",
            "15/15 [==============================] - 1s 21ms/step - loss: 0.0281 - accuracy: 0.9923 - val_loss: 0.0665 - val_accuracy: 0.9778\n",
            "Epoch 2/10\n",
            "15/15 [==============================] - 0s 6ms/step - loss: 0.0145 - accuracy: 0.9986 - val_loss: 0.0738 - val_accuracy: 0.9778\n",
            "Epoch 3/10\n",
            "15/15 [==============================] - 0s 7ms/step - loss: 0.0134 - accuracy: 0.9965 - val_loss: 0.0842 - val_accuracy: 0.9750\n",
            "Epoch 4/10\n",
            "15/15 [==============================] - 0s 8ms/step - loss: 0.0095 - accuracy: 0.9993 - val_loss: 0.0655 - val_accuracy: 0.9806\n",
            "Epoch 5/10\n",
            "15/15 [==============================] - 0s 6ms/step - loss: 0.0083 - accuracy: 1.0000 - val_loss: 0.0952 - val_accuracy: 0.9722\n",
            "Epoch 6/10\n",
            "15/15 [==============================] - 0s 6ms/step - loss: 0.0079 - accuracy: 0.9993 - val_loss: 0.0646 - val_accuracy: 0.9861\n",
            "Epoch 7/10\n",
            "15/15 [==============================] - 0s 6ms/step - loss: 0.0060 - accuracy: 1.0000 - val_loss: 0.0906 - val_accuracy: 0.9750\n",
            "Epoch 8/10\n",
            "15/15 [==============================] - 0s 6ms/step - loss: 0.0080 - accuracy: 0.9986 - val_loss: 0.0626 - val_accuracy: 0.9861\n",
            "Epoch 9/10\n",
            "15/15 [==============================] - 0s 6ms/step - loss: 0.0034 - accuracy: 1.0000 - val_loss: 0.0832 - val_accuracy: 0.9722\n",
            "Epoch 10/10\n",
            "15/15 [==============================] - 0s 7ms/step - loss: 0.0039 - accuracy: 1.0000 - val_loss: 0.0654 - val_accuracy: 0.9861\n"
          ]
        },
        {
          "output_type": "display_data",
          "data": {
            "text/plain": [
              "<Figure size 432x288 with 1 Axes>"
            ],
            "image/png": "[encoded data removed]"
          },
          "metadata": {
            "needs_background": "light"
          }
        }
      ]
    },
    {
      "cell_type": "code",
      "source": [
        "# Define the neural network architecture\n",
        "\n",
        "model = Sequential()\n",
        "model.add(Dense(64, activation='relu', input_dim=64))\n",
        "model.add(Dense(30, activation='relu'))\n",
        "model.add(Dense(10, activation='sigmoid'))\n",
        "\n",
        "# Train the neural network with different optimizers\n",
        "batch_size = 100\n",
        "epochs = 10\n",
        "\n",
        "model.compile(SGD(lr=.001), loss='categorical_crossentropy', metrics=['accuracy'])\n",
        "history_sgd = model.fit(X_train, y_train, batch_size=batch_size, epochs=epochs, validation_data=(X_test, y_test))\n",
        "\n",
        "\n",
        "model.compile(Adam(lr=.001), loss='categorical_crossentropy', metrics=['accuracy'])\n",
        "history_adam = model.fit(X_train, y_train, batch_size=batch_size, epochs=epochs, validation_data=(X_test, y_test))\n",
        "\n",
        "model.compile(Nadam(lr=.001), loss='categorical_crossentropy', metrics=['accuracy'])\n",
        "history_nadam = model.fit(X_train, y_train, batch_size=batch_size, epochs=epochs, validation_data=(X_test, y_test))\n",
        "\n",
        "model.compile(Adagrad(lr=.001), loss='categorical_crossentropy', metrics=['accuracy'])\n",
        "history_adagrad = model.fit(X_train, y_train, batch_size=batch_size, epochs=epochs, validation_data=(X_test, y_test))\n",
        "\n",
        "model.compile(RMSprop(lr=.001), loss='categorical_crossentropy', metrics=['accuracy'])\n",
        "history_rmsprop = model.fit(X_train, y_train, batch_size=batch_size, epochs=epochs, validation_data=(X_test, y_test))\n",
        "\n",
        "# Plot the accuracy for each optimizer\n",
        "plt.plot(history_sgd.history['val_loss'], label='SGD')\n",
        "plt.plot(history_adam.history['val_loss'], label='Adam')\n",
        "plt.plot(history_nadam.history['val_loss'], label='Nadam')\n",
        "plt.plot(history_adagrad.history['val_loss'], label='Adagrad')\n",
        "plt.plot(history_rmsprop.history['val_loss'], label='RMSprop')\n",
        "plt.title('Epoch vs. Loss')\n",
        "plt.ylabel('Loss')\n",
        "plt.xlabel('Epoch')\n",
        "plt.legend(loc='best')\n",
        "plt.show()\n"
      ],
      "metadata": {
        "colab": {
          "base_uri": "https://localhost:8080/",
          "height": 1000
        },
        "id": "191yxnOcMKHL",
        "outputId": "5894c22e-b91e-4547-85e2-3d8060c7b572"
      },
      "execution_count": null,
      "outputs": [
        {
          "output_type": "stream",
          "name": "stderr",
          "text": [
            "/usr/local/lib/python3.8/dist-packages/keras/optimizers/optimizer_v2/gradient_descent.py:114: UserWarning: The `lr` argument is deprecated, use `learning_rate` instead.\n",
            "  super().__init__(name, **kwargs)\n"
          ]
        },
        {
          "output_type": "stream",
          "name": "stdout",
          "text": [
            "Epoch 1/10\n",
            "15/15 [==============================] - 2s 47ms/step - loss: 5.3009 - accuracy: 0.1489 - val_loss: 3.1664 - val_accuracy: 0.2639\n",
            "Epoch 2/10\n",
            "15/15 [==============================] - 0s 17ms/step - loss: 2.8994 - accuracy: 0.2804 - val_loss: 2.4766 - val_accuracy: 0.3389\n",
            "Epoch 3/10\n",
            "15/15 [==============================] - 0s 10ms/step - loss: 2.4389 - accuracy: 0.3152 - val_loss: 2.1807 - val_accuracy: 0.3889\n",
            "Epoch 4/10\n",
            "15/15 [==============================] - 0s 14ms/step - loss: 2.1976 - accuracy: 0.3493 - val_loss: 1.9791 - val_accuracy: 0.4056\n",
            "Epoch 5/10\n",
            "15/15 [==============================] - 0s 9ms/step - loss: 2.0141 - accuracy: 0.3688 - val_loss: 1.8298 - val_accuracy: 0.4361\n",
            "Epoch 6/10\n",
            "15/15 [==============================] - 0s 12ms/step - loss: 1.8702 - accuracy: 0.3918 - val_loss: 1.7021 - val_accuracy: 0.4500\n",
            "Epoch 7/10\n",
            "15/15 [==============================] - 0s 17ms/step - loss: 1.7429 - accuracy: 0.4057 - val_loss: 1.5945 - val_accuracy: 0.4611\n",
            "Epoch 8/10\n",
            "15/15 [==============================] - 0s 10ms/step - loss: 1.6324 - accuracy: 0.4412 - val_loss: 1.4992 - val_accuracy: 0.4861\n",
            "Epoch 9/10\n",
            "15/15 [==============================] - 0s 6ms/step - loss: 1.5370 - accuracy: 0.4690 - val_loss: 1.4162 - val_accuracy: 0.4972\n",
            "Epoch 10/10\n",
            "15/15 [==============================] - 0s 6ms/step - loss: 1.4516 - accuracy: 0.4913 - val_loss: 1.3353 - val_accuracy: 0.5222\n",
            "Epoch 1/10\n"
          ]
        },
        {
          "output_type": "stream",
          "name": "stderr",
          "text": [
            "/usr/local/lib/python3.8/dist-packages/keras/optimizers/optimizer_v2/adam.py:117: UserWarning: The `lr` argument is deprecated, use `learning_rate` instead.\n",
            "  super().__init__(name, **kwargs)\n"
          ]
        },
        {
          "output_type": "stream",
          "name": "stdout",
          "text": [
            "15/15 [==============================] - 1s 25ms/step - loss: 1.1460 - accuracy: 0.5992 - val_loss: 0.7726 - val_accuracy: 0.7639\n",
            "Epoch 2/10\n",
            "15/15 [==============================] - 0s 8ms/step - loss: 0.7258 - accuracy: 0.7808 - val_loss: 0.5397 - val_accuracy: 0.8500\n",
            "Epoch 3/10\n",
            "15/15 [==============================] - 0s 7ms/step - loss: 0.5146 - accuracy: 0.8559 - val_loss: 0.3818 - val_accuracy: 0.8972\n",
            "Epoch 4/10\n",
            "15/15 [==============================] - 0s 6ms/step - loss: 0.3763 - accuracy: 0.8991 - val_loss: 0.2920 - val_accuracy: 0.9333\n",
            "Epoch 5/10\n",
            "15/15 [==============================] - 0s 7ms/step - loss: 0.2918 - accuracy: 0.9200 - val_loss: 0.2273 - val_accuracy: 0.9333\n",
            "Epoch 6/10\n",
            "15/15 [==============================] - 0s 7ms/step - loss: 0.2341 - accuracy: 0.9388 - val_loss: 0.1832 - val_accuracy: 0.9583\n",
            "Epoch 7/10\n",
            "15/15 [==============================] - 0s 7ms/step - loss: 0.1931 - accuracy: 0.9436 - val_loss: 0.1581 - val_accuracy: 0.9667\n",
            "Epoch 8/10\n",
            "15/15 [==============================] - 0s 7ms/step - loss: 0.1650 - accuracy: 0.9569 - val_loss: 0.1387 - val_accuracy: 0.9722\n",
            "Epoch 9/10\n",
            "15/15 [==============================] - 0s 6ms/step - loss: 0.1403 - accuracy: 0.9638 - val_loss: 0.1149 - val_accuracy: 0.9778\n",
            "Epoch 10/10\n",
            "15/15 [==============================] - 0s 6ms/step - loss: 0.1256 - accuracy: 0.9659 - val_loss: 0.1194 - val_accuracy: 0.9667\n",
            "Epoch 1/10\n"
          ]
        },
        {
          "output_type": "stream",
          "name": "stderr",
          "text": [
            "/usr/local/lib/python3.8/dist-packages/keras/optimizers/optimizer_v2/nadam.py:89: UserWarning: The `lr` argument is deprecated, use `learning_rate` instead.\n",
            "  super().__init__(name, **kwargs)\n"
          ]
        },
        {
          "output_type": "stream",
          "name": "stdout",
          "text": [
            "15/15 [==============================] - 1s 23ms/step - loss: 0.1177 - accuracy: 0.9673 - val_loss: 0.1019 - val_accuracy: 0.9778\n",
            "Epoch 2/10\n",
            "15/15 [==============================] - 0s 8ms/step - loss: 0.0967 - accuracy: 0.9749 - val_loss: 0.0941 - val_accuracy: 0.9806\n",
            "Epoch 3/10\n",
            "15/15 [==============================] - 0s 6ms/step - loss: 0.0826 - accuracy: 0.9812 - val_loss: 0.0976 - val_accuracy: 0.9750\n",
            "Epoch 4/10\n",
            "15/15 [==============================] - 0s 6ms/step - loss: 0.0710 - accuracy: 0.9833 - val_loss: 0.0795 - val_accuracy: 0.9861\n",
            "Epoch 5/10\n",
            "15/15 [==============================] - 0s 6ms/step - loss: 0.0606 - accuracy: 0.9868 - val_loss: 0.0747 - val_accuracy: 0.9861\n",
            "Epoch 6/10\n",
            "15/15 [==============================] - 0s 7ms/step - loss: 0.0537 - accuracy: 0.9889 - val_loss: 0.0692 - val_accuracy: 0.9833\n",
            "Epoch 7/10\n",
            "15/15 [==============================] - 0s 7ms/step - loss: 0.0451 - accuracy: 0.9923 - val_loss: 0.0718 - val_accuracy: 0.9861\n",
            "Epoch 8/10\n",
            "15/15 [==============================] - 0s 6ms/step - loss: 0.0402 - accuracy: 0.9923 - val_loss: 0.0824 - val_accuracy: 0.9722\n",
            "Epoch 9/10\n",
            "15/15 [==============================] - 0s 7ms/step - loss: 0.0367 - accuracy: 0.9916 - val_loss: 0.0608 - val_accuracy: 0.9833\n",
            "Epoch 10/10\n",
            "15/15 [==============================] - 0s 7ms/step - loss: 0.0296 - accuracy: 0.9951 - val_loss: 0.0578 - val_accuracy: 0.9861\n",
            "Epoch 1/10\n"
          ]
        },
        {
          "output_type": "stream",
          "name": "stderr",
          "text": [
            "/usr/local/lib/python3.8/dist-packages/keras/optimizers/optimizer_v2/adagrad.py:84: UserWarning: The `lr` argument is deprecated, use `learning_rate` instead.\n",
            "  super().__init__(name, **kwargs)\n"
          ]
        },
        {
          "output_type": "stream",
          "name": "stdout",
          "text": [
            "15/15 [==============================] - 1s 21ms/step - loss: 0.0241 - accuracy: 0.9972 - val_loss: 0.0552 - val_accuracy: 0.9861\n",
            "Epoch 2/10\n",
            "15/15 [==============================] - 0s 7ms/step - loss: 0.0234 - accuracy: 0.9972 - val_loss: 0.0547 - val_accuracy: 0.9861\n",
            "Epoch 3/10\n",
            "15/15 [==============================] - 0s 6ms/step - loss: 0.0230 - accuracy: 0.9965 - val_loss: 0.0553 - val_accuracy: 0.9861\n",
            "Epoch 4/10\n",
            "15/15 [==============================] - 0s 6ms/step - loss: 0.0228 - accuracy: 0.9965 - val_loss: 0.0546 - val_accuracy: 0.9861\n",
            "Epoch 5/10\n",
            "15/15 [==============================] - 0s 5ms/step - loss: 0.0228 - accuracy: 0.9965 - val_loss: 0.0543 - val_accuracy: 0.9861\n",
            "Epoch 6/10\n",
            "15/15 [==============================] - 0s 5ms/step - loss: 0.0226 - accuracy: 0.9965 - val_loss: 0.0551 - val_accuracy: 0.9861\n",
            "Epoch 7/10\n",
            "15/15 [==============================] - 0s 5ms/step - loss: 0.0223 - accuracy: 0.9972 - val_loss: 0.0557 - val_accuracy: 0.9861\n",
            "Epoch 8/10\n",
            "15/15 [==============================] - 0s 5ms/step - loss: 0.0222 - accuracy: 0.9965 - val_loss: 0.0548 - val_accuracy: 0.9861\n",
            "Epoch 9/10\n",
            "15/15 [==============================] - 0s 6ms/step - loss: 0.0222 - accuracy: 0.9972 - val_loss: 0.0542 - val_accuracy: 0.9861\n",
            "Epoch 10/10\n",
            "15/15 [==============================] - 0s 6ms/step - loss: 0.0220 - accuracy: 0.9965 - val_loss: 0.0543 - val_accuracy: 0.9861\n",
            "Epoch 1/10\n"
          ]
        },
        {
          "output_type": "stream",
          "name": "stderr",
          "text": [
            "/usr/local/lib/python3.8/dist-packages/keras/optimizers/optimizer_v2/rmsprop.py:143: UserWarning: The `lr` argument is deprecated, use `learning_rate` instead.\n",
            "  super().__init__(name, **kwargs)\n"
          ]
        },
        {
          "output_type": "stream",
          "name": "stdout",
          "text": [
            "15/15 [==============================] - 2s 40ms/step - loss: 0.0423 - accuracy: 0.9882 - val_loss: 0.0577 - val_accuracy: 0.9750\n",
            "Epoch 2/10\n",
            "15/15 [==============================] - 0s 9ms/step - loss: 0.0235 - accuracy: 0.9958 - val_loss: 0.0579 - val_accuracy: 0.9889\n",
            "Epoch 3/10\n",
            "15/15 [==============================] - 0s 10ms/step - loss: 0.0250 - accuracy: 0.9965 - val_loss: 0.0476 - val_accuracy: 0.9861\n",
            "Epoch 4/10\n",
            "15/15 [==============================] - 0s 8ms/step - loss: 0.0212 - accuracy: 0.9951 - val_loss: 0.0855 - val_accuracy: 0.9694\n",
            "Epoch 5/10\n",
            "15/15 [==============================] - 0s 9ms/step - loss: 0.0171 - accuracy: 0.9986 - val_loss: 0.0538 - val_accuracy: 0.9833\n",
            "Epoch 6/10\n",
            "15/15 [==============================] - 0s 9ms/step - loss: 0.0180 - accuracy: 0.9951 - val_loss: 0.0575 - val_accuracy: 0.9778\n",
            "Epoch 7/10\n",
            "15/15 [==============================] - 0s 9ms/step - loss: 0.0127 - accuracy: 0.9993 - val_loss: 0.0484 - val_accuracy: 0.9806\n",
            "Epoch 8/10\n",
            "15/15 [==============================] - 0s 10ms/step - loss: 0.0122 - accuracy: 0.9979 - val_loss: 0.0558 - val_accuracy: 0.9778\n",
            "Epoch 9/10\n",
            "15/15 [==============================] - 0s 9ms/step - loss: 0.0094 - accuracy: 0.9986 - val_loss: 0.0765 - val_accuracy: 0.9694\n",
            "Epoch 10/10\n",
            "15/15 [==============================] - 0s 11ms/step - loss: 0.0107 - accuracy: 0.9993 - val_loss: 0.0361 - val_accuracy: 0.9861\n"
          ]
        },
        {
          "output_type": "display_data",
          "data": {
            "text/plain": [
              "<Figure size 432x288 with 1 Axes>"
            ],
            "image/png": "[encoded data removed]"
          },
          "metadata": {
            "needs_background": "light"
          }
        }
      ]
    },
    {
      "cell_type": "markdown",
      "source": [
        "# **Best Model**"
      ],
      "metadata": {
        "id": "XLvWA4ziT4IL"
      }
    },
    {
      "cell_type": "code",
      "source": [
        "# Define the neural network architecture\n",
        "model = Sequential()\n",
        "model.add(Dense(64, activation='relu', input_dim=64))\n",
        "\n",
        "model.add(Dense(30, activation='relu', kernel_regularizer=l2(0.01)))\n",
        "model.add(Dropout(0.01)),\n",
        "model.add(Dense(10, activation='sigmoid'))\n",
        "\n",
        "# Compile the model\n",
        "model.compile(Adam(lr=.001), loss='categorical_crossentropy', metrics=['accuracy'])\n",
        "\n",
        "\n",
        "\n",
        "\n",
        "# Train the model\n",
        "model.fit(X_train, y_train, epochs=10, batch_size=100, validation_data=(X_test, y_test))\n",
        "\n",
        "# Evaluate the model on test data\n",
        "scores = model.evaluate(X_test, y_test, verbose=0)\n",
        "\n",
        "\n",
        "# Evaluate the model\n",
        "y_pred = model.predict(X_test)\n",
        "y_pred_classes = np.argmax(y_pred, axis=1)\n",
        "y_test_classes = np.argmax(y_test, axis=1)\n",
        "\n",
        "# Compute confusion matrix\n",
        "confusion = confusion_matrix(y_test_classes, y_pred_classes)\n",
        "\n",
        "# Compute accuracy, specificity, sensitivity, PPVs, and NPVs\n",
        "total = np.sum(confusion)\n",
        "accuracy = np.trace(confusion) / float(total)\n",
        "specificity = np.diag(confusion)[0] / np.sum(confusion[0])\n",
        "sensitivity = np.diag(confusion)[1] / np.sum(confusion[1])\n",
        "ppv = np.diag(confusion)[1] / np.sum(confusion[:, 1])\n",
        "npv = np.diag(confusion)[0] / np.sum(confusion[:, 0])\n",
        "\n",
        "# Print the results\n",
        "print(\"Accuracy:\", accuracy)\n",
        "print(\"Loss: {:.2f}\".format(scores[0]))\n",
        "print(\"Specificity:\", specificity)\n",
        "print(\"Sensitivity:\", sensitivity)\n",
        "print(\"PPV:\", ppv)\n",
        "print(\"NPV:\", npv)\n"
      ],
      "metadata": {
        "id": "uWolZ-_ST5Hi",
        "colab": {
          "base_uri": "https://localhost:8080/"
        },
        "outputId": "bc460a63-adcb-43b6-8b85-65f2f68b9f7c"
      },
      "execution_count": null,
      "outputs": [
        {
          "output_type": "stream",
          "name": "stdout",
          "text": [
            "Epoch 1/10\n",
            "15/15 [==============================] - 1s 20ms/step - loss: 4.1612 - accuracy: 0.1969 - val_loss: 2.6043 - val_accuracy: 0.3361\n",
            "Epoch 2/10\n",
            "15/15 [==============================] - 0s 7ms/step - loss: 2.3108 - accuracy: 0.3751 - val_loss: 1.7928 - val_accuracy: 0.5306\n",
            "Epoch 3/10\n",
            "15/15 [==============================] - 0s 6ms/step - loss: 1.6965 - accuracy: 0.5539 - val_loss: 1.3272 - val_accuracy: 0.6972\n",
            "Epoch 4/10\n",
            "15/15 [==============================] - 0s 5ms/step - loss: 1.2791 - accuracy: 0.7077 - val_loss: 0.9748 - val_accuracy: 0.8139\n",
            "Epoch 5/10\n",
            "15/15 [==============================] - 0s 5ms/step - loss: 0.9738 - accuracy: 0.8051 - val_loss: 0.7347 - val_accuracy: 0.8972\n",
            "Epoch 6/10\n",
            "15/15 [==============================] - 0s 7ms/step - loss: 0.7751 - accuracy: 0.8685 - val_loss: 0.5986 - val_accuracy: 0.9278\n",
            "Epoch 7/10\n",
            "15/15 [==============================] - 0s 7ms/step - loss: 0.6387 - accuracy: 0.9047 - val_loss: 0.5120 - val_accuracy: 0.9444\n",
            "Epoch 8/10\n",
            "15/15 [==============================] - 0s 6ms/step - loss: 0.5655 - accuracy: 0.9248 - val_loss: 0.4669 - val_accuracy: 0.9528\n",
            "Epoch 9/10\n",
            "15/15 [==============================] - 0s 5ms/step - loss: 0.5139 - accuracy: 0.9346 - val_loss: 0.4329 - val_accuracy: 0.9528\n",
            "Epoch 10/10\n",
            "15/15 [==============================] - 0s 6ms/step - loss: 0.4639 - accuracy: 0.9485 - val_loss: 0.4047 - val_accuracy: 0.9611\n",
            "12/12 [==============================] - 0s 2ms/step\n",
            "Accuracy: 0.9611111111111111\n",
            "Loss: 0.40\n",
            "Specificity: 1.0\n",
            "Sensitivity: 0.9487179487179487\n",
            "PPV: 0.9024390243902439\n",
            "NPV: 1.0\n"
          ]
        }
      ]
    },
    {
      "cell_type": "markdown",
      "source": [
        "# **Regularization - Achini**"
      ],
      "metadata": {
        "id": "uCU7Lzv80LUj"
      }
    },
    {
      "cell_type": "code",
      "source": [
        "# Define the neural network architecture\n",
        "modelReg = Sequential()\n",
        "modelReg.add(Dense(64, activation='relu', input_dim=64))\n",
        "modelReg.add(Dense(30, activation='relu',kernel_regularizer=l2(0.01)))\n",
        "modelReg.add(Dense(10, activation='sigmoid'))\n",
        "\n",
        "\n",
        "\n",
        "# Compile the model\n",
        "modelReg.compile(optimizer='adam', loss='categorical_crossentropy', metrics=['accuracy'])\n",
        "\n",
        "\n",
        "# Train the model\n",
        "modelReg.fit(X_train, y_train, epochs=10, batch_size=100, validation_data=(X_test, y_test))\n",
        "\n",
        "# Evaluate the model\n",
        "y_pred = model.predict(X_test)\n",
        "y_pred_classes = np.argmax(y_pred, axis=1)\n",
        "y_test_classes = np.argmax(y_test, axis=1)\n",
        "\n",
        "# Compute confusion matrix\n",
        "confusion = confusion_matrix(y_test_classes, y_pred_classes)\n",
        "\n",
        "# Compute accuracy, specificity, sensitivity, PPVs, and NPVs\n",
        "total = np.sum(confusion)\n",
        "accuracy = np.trace(confusion) / float(total)\n",
        "specificity = np.diag(confusion)[0] / np.sum(confusion[0])\n",
        "sensitivity = np.diag(confusion)[1] / np.sum(confusion[1])\n",
        "ppv = np.diag(confusion)[1] / np.sum(confusion[:, 1])\n",
        "npv = np.diag(confusion)[0] / np.sum(confusion[:, 0])\n",
        "\n",
        "# Print the results\n",
        "print(\"Accuracy:\", accuracy)\n",
        "print(\"Specificity:\", specificity)\n",
        "print(\"Sensitivity:\", sensitivity)\n",
        "print(\"PPV:\", ppv)\n",
        "print(\"NPV:\", npv)"
      ],
      "metadata": {
        "id": "ktpaAQOQ0Mbi",
        "colab": {
          "base_uri": "https://localhost:8080/"
        },
        "outputId": "64cbf71b-7ae3-4a77-caad-efe0352fcb52"
      },
      "execution_count": null,
      "outputs": [
        {
          "output_type": "stream",
          "name": "stdout",
          "text": [
            "Epoch 1/10\n",
            "15/15 [==============================] - 1s 23ms/step - loss: 2.9890 - accuracy: 0.2011 - val_loss: 2.0294 - val_accuracy: 0.3444\n",
            "Epoch 2/10\n",
            "15/15 [==============================] - 0s 7ms/step - loss: 1.6845 - accuracy: 0.5692 - val_loss: 1.2592 - val_accuracy: 0.7500\n",
            "Epoch 3/10\n",
            "15/15 [==============================] - 0s 5ms/step - loss: 1.1320 - accuracy: 0.7697 - val_loss: 0.8818 - val_accuracy: 0.8444\n",
            "Epoch 4/10\n",
            "15/15 [==============================] - 0s 7ms/step - loss: 0.8519 - accuracy: 0.8483 - val_loss: 0.7041 - val_accuracy: 0.8972\n",
            "Epoch 5/10\n",
            "15/15 [==============================] - 0s 6ms/step - loss: 0.7006 - accuracy: 0.8928 - val_loss: 0.5944 - val_accuracy: 0.9222\n",
            "Epoch 6/10\n",
            "15/15 [==============================] - 0s 7ms/step - loss: 0.6063 - accuracy: 0.9207 - val_loss: 0.5272 - val_accuracy: 0.9389\n",
            "Epoch 7/10\n",
            "15/15 [==============================] - 0s 8ms/step - loss: 0.5421 - accuracy: 0.9332 - val_loss: 0.4828 - val_accuracy: 0.9472\n",
            "Epoch 8/10\n",
            "15/15 [==============================] - 0s 5ms/step - loss: 0.4887 - accuracy: 0.9457 - val_loss: 0.4541 - val_accuracy: 0.9500\n",
            "Epoch 9/10\n",
            "15/15 [==============================] - 0s 7ms/step - loss: 0.4517 - accuracy: 0.9555 - val_loss: 0.4326 - val_accuracy: 0.9444\n",
            "Epoch 10/10\n",
            "15/15 [==============================] - 0s 6ms/step - loss: 0.4179 - accuracy: 0.9673 - val_loss: 0.4089 - val_accuracy: 0.9611\n",
            "12/12 [==============================] - 0s 2ms/step\n",
            "Accuracy: 0.9722222222222222\n",
            "Specificity: 1.0\n",
            "Sensitivity: 1.0\n",
            "PPV: 0.9069767441860465\n",
            "NPV: 1.0\n"
          ]
        }
      ]
    },
    {
      "cell_type": "markdown",
      "source": [
        "**Regularization Graph**"
      ],
      "metadata": {
        "id": "IPszh7130cnv"
      }
    },
    {
      "cell_type": "code",
      "source": [
        "import numpy as np\n",
        "import matplotlib.pyplot as plt"
      ],
      "metadata": {
        "id": "3SwWSNcP0jSB"
      },
      "execution_count": null,
      "outputs": []
    },
    {
      "cell_type": "code",
      "source": [
        "# Define the regularization strengths to try\n",
        "reg_strengths = np.logspace(-5, 1, 5)\n",
        "\n",
        "# Train a model for each regularization strength and record the validation accuracy\n",
        "val_accs = []\n",
        "for reg_strength in reg_strengths:\n",
        "    # Define the model\n",
        "    modelRegGraph = Sequential()\n",
        "    modelRegGraph.add(Dense(64, activation='relu', input_dim=64, kernel_regularizer=l2(reg_strength)))\n",
        "    modelRegGraph.add(Dense(30, activation='relu',kernel_regularizer=l2(reg_strength)))\n",
        "    modelRegGraph.add(Dense(10, activation='softmax'))\n",
        "\n",
        "    # Compile the model\n",
        "    modelRegGraph.compile(loss='categorical_crossentropy', optimizer='adam', metrics=['accuracy'])\n",
        "\n",
        "    # Train the model\n",
        "    history = modelRegGraph.fit(X_train, y_train, epochs=10, batch_size=100, validation_data=(X_test, y_test), verbose=0)\n",
        "\n",
        "    # Record the validation accuracy\n",
        "    val_acc = history.history['val_accuracy'][-1]\n",
        "    val_accs.append(val_acc)\n",
        "\n",
        "# Plot the validation accuracy as a function of the regularization strength\n",
        "plt.semilogx(reg_strengths, val_accs, '-o')\n",
        "plt.xlabel('Regularization strength')\n",
        "plt.ylabel('Validation accuracy')\n",
        "plt.show()\n"
      ],
      "metadata": {
        "colab": {
          "base_uri": "https://localhost:8080/",
          "height": 283
        },
        "id": "1BUywkpF0mQk",
        "outputId": "1e257928-f779-46d4-a931-b93be803aaf8"
      },
      "execution_count": null,
      "outputs": [
        {
          "output_type": "display_data",
          "data": {
            "text/plain": [
              "<Figure size 432x288 with 1 Axes>"
            ],
            "image/png": "[encoded data removed]"
          },
          "metadata": {
            "needs_background": "light"
          }
        }
      ]
    },
    {
      "cell_type": "code",
      "source": [
        "# Layers 1\n",
        "\n",
        "# Define the regularization strengths to try\n",
        "reg_strengths = np.logspace(-5, 1, 5)\n",
        "\n",
        "# Train a model for each regularization strength and record the validation accuracy\n",
        "val_accs_train = []\n",
        "val_accs_test = []\n",
        "for reg_strength in reg_strengths:\n",
        "    # Define the model\n",
        "    modelRegGraph = Sequential()\n",
        "    modelRegGraph.add(Dense(64, activation='relu', input_dim=64, kernel_regularizer=l2(reg_strength)))\n",
        "    modelRegGraph.add(Dense(30, activation='relu'))\n",
        "    modelRegGraph.add(Dense(10, activation='sigmoid'))\n",
        "\n",
        "    # Compile the model\n",
        "    modelRegGraph.compile(loss='categorical_crossentropy', optimizer='adam', metrics=['accuracy'])\n",
        "\n",
        "    # Train the model\n",
        "    history = modelRegGraph.fit(X_train, y_train, epochs=10, batch_size=100, validation_data=(X_test, y_test), verbose=0)\n",
        "\n",
        "\n",
        "    # Record the validation accuracy\n",
        "    train_acc = history.history['loss'][-1]\n",
        "    test_acc = history.history['val_loss'][-1]\n",
        "    val_accs_train.append(train_acc)\n",
        "    val_accs_test.append(test_acc)\n",
        "\n",
        "\n",
        "\n",
        "# Plot the validation accuracy as a function of the regularization strength\n",
        "plt.semilogx(reg_strengths, val_accs_train, '-o', label=\"Train Data\")\n",
        "plt.semilogx(reg_strengths, val_accs_test, '-o', label=\"Test Data\")\n",
        "\n",
        "plt.xlabel('Regularization strength')\n",
        "plt.ylabel('Loss')\n",
        "plt.legend()\n",
        "plt.show()"
      ],
      "metadata": {
        "id": "Yo4JX7qOSZ5x",
        "colab": {
          "base_uri": "https://localhost:8080/",
          "height": 285
        },
        "outputId": "54d1e328-0177-4605-d1b6-c18888b82948"
      },
      "execution_count": null,
      "outputs": [
        {
          "output_type": "display_data",
          "data": {
            "text/plain": [
              "<Figure size 432x288 with 1 Axes>"
            ],
            "image/png": "[encoded data removed]"
          },
          "metadata": {
            "needs_background": "light"
          }
        }
      ]
    },
    {
      "cell_type": "code",
      "source": [
        "# Layers all\n",
        "\n",
        "# Define the regularization strengths to try\n",
        "reg_strengths = np.logspace(-5, 1, 5)\n",
        "\n",
        "# Train a model for each regularization strength and record the validation accuracy\n",
        "val_accs_train = []\n",
        "val_accs_test = []\n",
        "for reg_strength in reg_strengths:\n",
        "    # Define the model\n",
        "    modelRegGraph = Sequential()\n",
        "    modelRegGraph.add(Dense(64, activation='relu', input_dim=64, kernel_regularizer=l2(reg_strength)))\n",
        "    modelRegGraph.add(Dense(30, activation='relu', kernel_regularizer=l2(reg_strength)))\n",
        "    modelRegGraph.add(Dense(10, activation='sigmoid', kernel_regularizer=l2(reg_strength)))\n",
        "\n",
        "    # Compile the model\n",
        "    modelRegGraph.compile(loss='categorical_crossentropy', optimizer='adam', metrics=['accuracy'])\n",
        "\n",
        "    # Train the model\n",
        "    history = modelRegGraph.fit(X_train, y_train, epochs=10, batch_size=100, validation_data=(X_test, y_test), verbose=0)\n",
        "\n",
        "    # Record the validation accuracy\n",
        "\n",
        "    train_acc = history.history['accuracy'][-1]\n",
        "    test_acc = history.history['val_accuracy'][-1]\n",
        "    val_accs_train.append(train_acc)\n",
        "    val_accs_test.append(test_acc)\n",
        "\n",
        "# Plot the validation accuracy as a function of the regularization strength\n",
        "# plt.semilogx(reg_strengths, val_accs_train, '-o', label=\"Train Data\")\n",
        "plt.semilogx(reg_strengths, val_accs_train, '-o', label=\"Train Data\")\n",
        "plt.semilogx(reg_strengths, val_accs_test, '-o', label=\"Test Data\")\n",
        "\n",
        "plt.xlabel('Regularization strength')\n",
        "plt.ylabel('Validation accuracy')\n",
        "plt.legend()\n",
        "plt.show()\n",
        "\n",
        "# Layers 1\n",
        "\n",
        "# Define the regularization strengths to try\n",
        "reg_strengths = np.logspace(-5, 1, 5)\n",
        "\n",
        "# Train a model for each regularization strength and record the validation accuracy\n",
        "val_accs_train = []\n",
        "val_accs_test = []\n",
        "for reg_strength in reg_strengths:\n",
        "    # Define the model\n",
        "    modelRegGraph = Sequential()\n",
        "    modelRegGraph.add(Dense(64, activation='relu', input_dim=64, kernel_regularizer=l2(reg_strength)))\n",
        "    modelRegGraph.add(Dense(30, activation='relu'))\n",
        "    modelRegGraph.add(Dense(10, activation='sigmoid'))\n",
        "\n",
        "    # Compile the model\n",
        "    modelRegGraph.compile(loss='categorical_crossentropy', optimizer='adam', metrics=['accuracy'])\n",
        "\n",
        "    # Train the model\n",
        "    history = modelRegGraph.fit(X_train, y_train, epochs=10, batch_size=100, validation_data=(X_test, y_test), verbose=0)\n",
        "\n",
        "\n",
        "    # Record the validation accuracy\n",
        "    train_acc = history.history['loss'][-1]\n",
        "    test_acc = history.history['val_loss'][-1]\n",
        "    val_accs_train.append(train_acc)\n",
        "    val_accs_test.append(test_acc)\n",
        "\n",
        "\n",
        "\n",
        "# Plot the validation accuracy as a function of the regularization strength\n",
        "plt.semilogx(reg_strengths, val_accs_train, '-o', label=\"Train Data\")\n",
        "plt.semilogx(reg_strengths, val_accs_test, '-o', label=\"Test Data\")\n",
        "\n",
        "plt.xlabel('Regularization strength')\n",
        "plt.ylabel('Loss')\n",
        "plt.legend()\n",
        "plt.show()"
      ],
      "metadata": {
        "id": "Yunz6buMSash",
        "colab": {
          "base_uri": "https://localhost:8080/",
          "height": 552
        },
        "outputId": "b0151b19-1f60-47ac-b191-dfa75e2a6701"
      },
      "execution_count": null,
      "outputs": [
        {
          "output_type": "display_data",
          "data": {
            "text/plain": [
              "<Figure size 432x288 with 1 Axes>"
            ],
            "image/png": "[encoded data removed]"
          },
          "metadata": {
            "needs_background": "light"
          }
        },
        {
          "output_type": "display_data",
          "data": {
            "text/plain": [
              "<Figure size 432x288 with 1 Axes>"
            ],
            "image/png": "[encoded data removed]"
          },
          "metadata": {
            "needs_background": "light"
          }
        }
      ]
    }
  ]
}